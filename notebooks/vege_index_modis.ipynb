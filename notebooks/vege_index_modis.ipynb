{
 "cells": [
  {
   "cell_type": "markdown",
   "metadata": {},
   "source": [
    "# Vegetation idices\n",
    "**Please clean all outputs when committing all the changes in git.**\n",
    "- use MODIS"
   ]
  },
  {
   "cell_type": "code",
   "execution_count": null,
   "metadata": {},
   "outputs": [],
   "source": [
    "%matplotlib inline  \n",
    "import os, sys\n",
    "import xarray as xr\n",
    "import geopandas as gpd\n",
    "import numpy as np\n",
    "import pandas as pd\n",
    "import matplotlib.pyplot as plt\n",
    "import matplotlib.colors as colors\n",
    "from scipy.optimize import fsolve\n",
    "\n",
    "import scripts.utility as util\n",
    "\n",
    "print(\"\\nThe Python version: %s.%s.%s\" % sys.version_info[:3])"
   ]
  },
  {
   "cell_type": "markdown",
   "metadata": {},
   "source": [
    "-------------------------\n",
    "## 1. Setup <a id='setup'></a>"
   ]
  },
  {
   "cell_type": "code",
   "execution_count": null,
   "metadata": {
    "editable": true,
    "slideshow": {
     "slide_type": ""
    },
    "tags": []
   },
   "outputs": [],
   "source": [
    "setup = util.load_yaml(\"./vege_index_setup.yaml\")\n",
    "\n",
    "catchment_name = setup[\"catchment_name\"]  # Catchment case: CONUS_HUC12, camels, camelsx-v3\n",
    "serial = setup[\"serial\"] # True: dask distributed enabled\n",
    "saveCSV = setup[\"saveCSV\"] # True: save attributes for each HRU in csv\n",
    "saveNetCDF = setup[\"saveNetCDF\"] # True: save attributes for each HRU in netcdf\n",
    "remap = setup[\"remap\"] # True: remap meteorological time series to HRUs\n",
    "\n",
    "# files and directories\n",
    "src_dir = setup[\"src_dir\"]\n",
    "catch_gpkg = setup[\"catch_gpkg\"]\n",
    "mapping_file = setup[\"mapping_file\"]\n",
    "\n",
    "# vegetation data meta\n",
    "nc_vege_var = setup['nc_var']\n",
    "\n",
    "IGBP = setup['IGBP']\n",
    "\n",
    "# catchment meta\n",
    "catch_attrs = setup[\"catch_attrs\"]\n",
    "\n",
    "print('-- Setup:')\n",
    "print(f\" Dask not enabled: {serial}\")\n",
    "print(f\" catchment_name: {catchment_name}\")\n",
    "print(f\" saveCSV: {saveCSV}\")\n",
    "print(f\" saveNetCDF: {saveNetCDF}\")\n",
    "print(f\" remap: {remap}\")\n",
    "print(f\" vegetation data directory: {src_dir}\")\n",
    "print(f\" catchment gpkg: {catch_gpkg}\")\n",
    "print(f\" mapping_file: {mapping_file}\")"
   ]
  },
  {
   "cell_type": "markdown",
   "metadata": {},
   "source": [
    "## Reading hru geopackage"
   ]
  },
  {
   "cell_type": "code",
   "execution_count": null,
   "metadata": {},
   "outputs": [],
   "source": [
    "%%time\n",
    "gdf_catch = util.read_shps([catch_gpkg], [catch_attrs[catchment_name]['id']])\n",
    "gdf_catch.set_crs(epsg=4326, inplace=True)\n",
    "gdf_catch = gdf_catch.rename(columns={catch_attrs[catchment_name]['id']:'hruId'})\n",
    "gdf_catch = gdf_catch.set_index('hruId')"
   ]
  },
  {
   "cell_type": "markdown",
   "metadata": {},
   "source": [
    "## Reading MODIS landcover and lai\n",
    "- IGBG land cover class MCD12Q1 (aggregated 600m resolution)\n",
    "- LAI MOD15A2 (aggregated 600m resolution)"
   ]
  },
  {
   "cell_type": "code",
   "execution_count": null,
   "metadata": {},
   "outputs": [],
   "source": [
    "%%time\n",
    "print(f'Reading MODIS data')\n",
    "ds = xr.open_dataset(os.path.join(src_dir, f'veg_NLDAS_float.nc')).load()\n",
    "ds['landcover'] = ds['landcover'].where(ds['landcover']>0, np.nan)\n",
    "ds['forest']    = ds['landcover'].where((ds['landcover']>=1) & (ds['landcover']<=5), 0)\n",
    "ds['forest']    = ds['forest'].where(ds['forest']==0, 1)"
   ]
  },
  {
   "cell_type": "code",
   "execution_count": null,
   "metadata": {},
   "outputs": [],
   "source": [
    "## copute root depth at 50 and 99 percentile based on IGBG class\n",
    "\n",
    "def func(x, a, b, Y):\n",
    "    return np.exp(a*x) + np.exp(b*x) + 2.0*(Y-1.0)\n",
    "\n",
    "root_param = {\n",
    "    1: {'a':6.706, 'b':2.175, 'dr':1.8, 'y05':np.nan, 'y99':np.nan},      # Evergreen needleleaf tree\n",
    "    2: {'a':7.344, 'b':1.303, 'dr':3.0, 'y05':np.nan, 'y99':np.nan},      # Evergreen broadleaf tree\n",
    "    3: {'a':7.066, 'b':1.953, 'dr':2.0, 'y05':np.nan, 'y99':np.nan},      # Deciduous needleleaf tree\n",
    "    4: {'a':5.990, 'b':1.955, 'dr':2.0, 'y05':np.nan, 'y99':np.nan},      # Deciduous broadleaf tree\n",
    "    5: {'a':4.453, 'b':1.631, 'dr':2.4, 'y05':np.nan, 'y99':np.nan},      # Mixed forest\n",
    "    6: {'a':6.326, 'b':1.567, 'dr':2.5, 'y05':np.nan, 'y99':np.nan},      # Closed shrubland\n",
    "    7: {'a':7.718, 'b':1.262, 'dr':3.1, 'y05':np.nan, 'y99':np.nan},      # Open shrubland\n",
    "    8: {'a':7.604, 'b':2.300, 'dr':1.7, 'y05':np.nan, 'y99':np.nan},      # Woody Savanna\n",
    "    9: {'a':8.235, 'b':1.627, 'dr':2.4, 'y05':np.nan, 'y99':np.nan},      # Savanna\n",
    "    10:{'a':10.74, 'b':2.608, 'dr':1.5, 'y05':np.nan, 'y99':np.nan},      # Grassland\n",
    "    11:{'a':np.nan, 'b':np.nan, 'dr':np.nan, 'y05':np.nan, 'y99':np.nan}, # Permanent wetland\n",
    "    12:{'a':5.558, 'b':2.614, 'dr':1.5, 'y05':np.nan, 'y99':np.nan},      # Cropland\n",
    "    13:{'a':5.558, 'b':2.614, 'dr':1.5, 'y05':np.nan, 'y99':np.nan},      # Urban and built-up land\n",
    "    14:{'a':5.558, 'b':2.614, 'dr':1.5, 'y05':np.nan, 'y99':np.nan},      # Cropland/natural vegetation\n",
    "    15:{'a':np.nan, 'b':np.nan, 'dr':np.nan, 'y05':np.nan, 'y99':np.nan}, # snow and ice\n",
    "    16:{'a':4.372, 'b':0.978, 'dr':4.0, 'y05':np.nan, 'y99':np.nan},      # Barren\n",
    "    17:{'a':np.nan, 'b':np.nan, 'dr':np.nan, 'y05':np.nan, 'y99':np.nan}, # water bodies\n",
    "}\n",
    "\n",
    "for lc in root_param.keys():\n",
    "    if lc== 11 or lc==15 or lc==17:\n",
    "        continue\n",
    "    root_param[lc]['y05'] = fsolve(func, -0.1, args=(root_param[lc]['a'], root_param[lc]['b'], 0.5))[0]\n",
    "    root_param[lc]['y99'] = fsolve(func, -0.1, args=(root_param[lc]['a'], root_param[lc]['b'], 0.99))[0]"
   ]
  },
  {
   "cell_type": "code",
   "execution_count": null,
   "metadata": {},
   "outputs": [],
   "source": [
    "%%time\n",
    "ds['rd05'] = util.map_param(ds['landcover'], root_param, 'y05')\n",
    "ds['rd99'] = util.map_param(ds['landcover'], root_param, 'y99')"
   ]
  },
  {
   "cell_type": "code",
   "execution_count": null,
   "metadata": {},
   "outputs": [],
   "source": [
    "ds"
   ]
  },
  {
   "cell_type": "markdown",
   "metadata": {},
   "source": [
    "## Re-mapping\n",
    "- Monthly LAI\n",
    "- Landcover class\n",
    "- Root depth"
   ]
  },
  {
   "cell_type": "code",
   "execution_count": null,
   "metadata": {},
   "outputs": [],
   "source": [
    "%%time\n",
    "# monthly weighted average\n",
    "dr_mask = xr.where(np.isnan(ds['lai'].isel(month=0)), 0, 1)\n",
    "a1 = []\n",
    "for mon in np.arange(12):\n",
    "    a1.append(util.regrid_mean(xr.open_dataset(mapping_file), ds.isel(month=mon), dr_mask, ['lai'], verbose=False))\n",
    "a = xr.concat(a1, dim=\"month\")"
   ]
  },
  {
   "cell_type": "code",
   "execution_count": null,
   "metadata": {},
   "outputs": [],
   "source": [
    "# weighted average\n",
    "dr_mask = xr.where(np.isnan(ds['rd05']), 0, 1)\n",
    "a1 = util.regrid_mean(xr.open_dataset(mapping_file), ds, dr_mask, ['rd05', 'rd99'], verbose=False)\n",
    "a = xr.merge([a, a1])"
   ]
  },
  {
   "cell_type": "code",
   "execution_count": null,
   "metadata": {},
   "outputs": [],
   "source": [
    "# Dominant class\n",
    "dr_mask = xr.where(np.isnan(ds['landcover']), 0, 1)\n",
    "a1 = util.regrid_mode(xr.open_dataset(mapping_file), ds, dr_mask, ['landcover'])\n",
    "a = xr.merge([a, a1])"
   ]
  },
  {
   "cell_type": "code",
   "execution_count": null,
   "metadata": {},
   "outputs": [],
   "source": [
    "# Forest fraction\n",
    "dr_mask = xr.where(np.isnan(ds['forest']), 0, 1)\n",
    "a1 = util.regrid_mean(xr.open_dataset(mapping_file), ds, dr_mask, ['forest'])\n",
    "a = xr.merge([a, a1['forest'].rename('forest_frac')])"
   ]
  },
  {
   "cell_type": "code",
   "execution_count": null,
   "metadata": {},
   "outputs": [],
   "source": [
    "a['lai_max'] = a['lai'].max(dim='month')\n",
    "a['lai_diff'] = a['lai_max'] - a['lai'].min(dim='month')"
   ]
  },
  {
   "cell_type": "code",
   "execution_count": null,
   "metadata": {},
   "outputs": [],
   "source": [
    "a['1st_dominant_landcover'] = a['1st_dominant_landcover'].where(a['1st_dominant_landcover']!='N/A', -999).astype(float)\n",
    "a['1st_dominant_landcover'] = a['1st_dominant_landcover'].where(~np.isnan(a['1st_dominant_landcover']), -999.0).astype(int)"
   ]
  },
  {
   "cell_type": "code",
   "execution_count": null,
   "metadata": {},
   "outputs": [],
   "source": [
    "a['2nd_dominant_landcover'] = a['2nd_dominant_landcover'].where(a['2nd_dominant_landcover']!='N/A', -999).astype(float)\n",
    "a['2nd_dominant_landcover'] = a['2nd_dominant_landcover'].where(~np.isnan(a['2nd_dominant_landcover']), -999.0).astype(int)"
   ]
  },
  {
   "cell_type": "code",
   "execution_count": null,
   "metadata": {},
   "outputs": [],
   "source": [
    "a"
   ]
  },
  {
   "cell_type": "markdown",
   "metadata": {},
   "source": [
    "## Fill missing values"
   ]
  },
  {
   "cell_type": "code",
   "execution_count": null,
   "metadata": {},
   "outputs": [],
   "source": [
    "# find hru with missing value - this is specific to vegetation data \n",
    "missing_huc = a['hru'].where(a['1st_dominant_landcover']==-999, drop=True).values"
   ]
  },
  {
   "cell_type": "code",
   "execution_count": null,
   "metadata": {},
   "outputs": [],
   "source": [
    "gdf_catch_proj = gdf_catch.to_crs('epsg:3785')\n",
    "centroid = gdf_catch_proj.copy(deep=True)\n",
    "centroid.geometry = centroid['geometry'].centroid\n",
    "\n",
    "print('index missing_huc12, target_closest_huc12')\n",
    "count=0\n",
    "neighbor_huc12 = {}\n",
    "for index, row in centroid.iterrows():\n",
    "    if index not in missing_huc:\n",
    "        continue\n",
    "    count+=1\n",
    "    geo_ix = gdf_catch_proj.geometry.distance(row.geometry).sort_values().index[1:50]\n",
    "    for ix in geo_ix:\n",
    "        if ix not in missing_huc:\n",
    "            neighbor_huc12[index] = ix\n",
    "            break\n",
    "    if count%10==0:\n",
    "        print(count, index, neighbor_huc12[index])"
   ]
  },
  {
   "cell_type": "code",
   "execution_count": null,
   "metadata": {},
   "outputs": [],
   "source": [
    "veg_vars = ['1st_dominant_landcover', '1st_dominant_landcover_fraction','forest_frac','rd05', 'rd99']\n",
    "for huc12_missing, huc12_target in neighbor_huc12.items():\n",
    "    for var in veg_vars:\n",
    "        a[var].loc[dict(hru=huc12_missing)] = a[var].loc[dict(hru=huc12_target)].values"
   ]
  },
  {
   "cell_type": "markdown",
   "metadata": {},
   "source": [
    "## Dataset to Dataframe"
   ]
  },
  {
   "cell_type": "code",
   "execution_count": null,
   "metadata": {},
   "outputs": [],
   "source": [
    "var_list = ['forest_frac','lai_max','lai_diff','1st_dominant_landcover','1st_dominant_landcover_fraction','rd05','rd99']\n",
    "df = a[var_list].to_dataframe()"
   ]
  },
  {
   "cell_type": "markdown",
   "metadata": {},
   "source": [
    "## Save in csv or netcdf"
   ]
  },
  {
   "cell_type": "code",
   "execution_count": null,
   "metadata": {},
   "outputs": [],
   "source": [
    "if saveCSV:\n",
    "    df.to_csv(os.path.join('output', f'{catchment_name}_veg.csv'), float_format='%g')\n",
    "if saveNetCDF:\n",
    "    a.to_netcdf(os.path.join('output', f'{catchment_name}_veg.nc'))"
   ]
  },
  {
   "cell_type": "markdown",
   "metadata": {
    "editable": true,
    "slideshow": {
     "slide_type": ""
    },
    "tags": []
   },
   "source": [
    "## Plotting"
   ]
  },
  {
   "cell_type": "code",
   "execution_count": null,
   "metadata": {},
   "outputs": [],
   "source": [
    "gdf_catch = gdf_catch.merge(df,left_index=True, right_index=True)"
   ]
  },
  {
   "cell_type": "code",
   "execution_count": null,
   "metadata": {},
   "outputs": [],
   "source": [
    "df = a[['lai']].to_dataframe().reset_index()\n",
    "df_pivot = df.pivot(index='hru', columns='month', values='lai')\n",
    "df_pivot.reset_index(inplace=True)\n",
    "df_pivot.columns.name = None  # Remove the name of the column index\n",
    "df_pivot = df_pivot.rename_axis(None, axis=1)  # Remove axis labels\n",
    "for mon in np.arange(12):\n",
    "    df_pivot.rename(columns={mon:f'lai{mon+1}'}, inplace=True)"
   ]
  },
  {
   "cell_type": "code",
   "execution_count": null,
   "metadata": {},
   "outputs": [],
   "source": [
    "gdf_catch = gdf_catch.merge(df_pivot, left_index=True, right_on='hru')"
   ]
  },
  {
   "cell_type": "code",
   "execution_count": null,
   "metadata": {},
   "outputs": [],
   "source": [
    "var_name = 'rd05'\n",
    "fig, ax = plt.subplots(figsize=(6, 3), dpi=150)\n",
    "#gdf_catch.plot(ax=ax, color='white', edgecolor='black', lw=0.2)\n",
    "gdf_catch.plot(ax=ax, column=var_name, cmap='turbo',\n",
    "                norm=colors.Normalize(-0.25, -0.1),\n",
    "                legend=True\n",
    "               );\n",
    "ax.set_title(var_name);\n",
    "fig.tight_layout()\n",
    "plt.savefig(f'./figures/{catchment_name}_veg_{var_name}.png', dpi=300)"
   ]
  },
  {
   "cell_type": "code",
   "execution_count": null,
   "metadata": {},
   "outputs": [],
   "source": [
    "var_name = 'rd99'\n",
    "fig, ax = plt.subplots(figsize=(6, 3), dpi=150)\n",
    "gdf_catch.plot(ax=ax, column=var_name, cmap='turbo',\n",
    "                norm=colors.Normalize(-3, -1),\n",
    "                legend=True\n",
    "               );\n",
    "ax.set_title(var_name);\n",
    "plt.savefig(f'./figures/{catchment_name}_veg_{var_name}.png', dpi=300)"
   ]
  },
  {
   "cell_type": "code",
   "execution_count": null,
   "metadata": {},
   "outputs": [],
   "source": [
    "var_name = '1st_dominant_landcover'\n",
    "fig, ax = plt.subplots(figsize=(6, 3), dpi=150)\n",
    "gdf_catch.plot(ax=ax, column=var_name, cmap='turbo',\n",
    "                norm=colors.Normalize(1, 17),\n",
    "                legend=True\n",
    "               );\n",
    "ax.set_title(var_name);\n",
    "plt.savefig(f'./figures/{catchment_name}_veg_{var_name}.png', dpi=300)"
   ]
  },
  {
   "cell_type": "code",
   "execution_count": null,
   "metadata": {},
   "outputs": [],
   "source": [
    "var_name = 'lai_max'\n",
    "fig, ax = plt.subplots(figsize=(6, 3), dpi=150)\n",
    "gdf_catch.plot(ax=ax, column=var_name, cmap='turbo',\n",
    "                norm=colors.Normalize(0, 6),\n",
    "                legend=True\n",
    "               );\n",
    "ax.set_title(var_name);\n",
    "plt.savefig(f'./figures/{catchment_name}_veg_{var_name}.png', dpi=300)"
   ]
  },
  {
   "cell_type": "code",
   "execution_count": null,
   "metadata": {},
   "outputs": [],
   "source": [
    "var_name = 'lai_diff'\n",
    "fig, ax = plt.subplots(figsize=(6, 3), dpi=150)\n",
    "gdf_catch.plot(ax=ax, column=var_name, cmap='turbo',\n",
    "                norm=colors.Normalize(0, 6),\n",
    "                legend=True\n",
    "               );\n",
    "ax.set_title(var_name);\n",
    "plt.savefig(f'./figures/{catchment_name}_veg_{var_name}.png', dpi=300)"
   ]
  },
  {
   "cell_type": "code",
   "execution_count": null,
   "metadata": {},
   "outputs": [],
   "source": [
    "var_name = 'forest_frac'\n",
    "fig, ax = plt.subplots(figsize=(6, 3), dpi=150)\n",
    "gdf_catch.plot(ax=ax, column=var_name, cmap='turbo',\n",
    "                norm=colors.Normalize(0, 1),\n",
    "                legend=True\n",
    "               );\n",
    "ax.set_title(var_name);\n",
    "fig.tight_layout()\n",
    "plt.savefig(f'./figures/{catchment_name}_veg_{var_name}.png', dpi=300)"
   ]
  },
  {
   "cell_type": "code",
   "execution_count": null,
   "metadata": {},
   "outputs": [],
   "source": []
  }
 ],
 "metadata": {
  "kernelspec": {
   "display_name": "NPL 2024b",
   "language": "python",
   "name": "npl-2024b"
  },
  "language_info": {
   "codemirror_mode": {
    "name": "ipython",
    "version": 3
   },
   "file_extension": ".py",
   "mimetype": "text/x-python",
   "name": "python",
   "nbconvert_exporter": "python",
   "pygments_lexer": "ipython3",
   "version": "3.11.9"
  }
 },
 "nbformat": 4,
 "nbformat_minor": 4
}
