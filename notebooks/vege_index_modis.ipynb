{
 "cells": [
  {
   "cell_type": "markdown",
   "metadata": {},
   "source": [
    "# geology vegetation idices\n",
    "- use MODIS"
   ]
  },
  {
   "cell_type": "code",
   "execution_count": null,
   "metadata": {},
   "outputs": [],
   "source": [
    "%matplotlib inline  \n",
    "import os, sys\n",
    "import xarray as xr\n",
    "import geopandas as gpd\n",
    "import numpy as np\n",
    "import pandas as pd\n",
    "import matplotlib.pyplot as plt\n",
    "import matplotlib.colors as colors\n",
    "from scipy.optimize import fsolve\n",
    "\n",
    "import scripts.utility as util\n",
    "\n",
    "print(\"\\nThe Python version: %s.%s.%s\" % sys.version_info[:3])\n",
    "print(xr.__name__, xr.__version__)"
   ]
  },
  {
   "cell_type": "markdown",
   "metadata": {},
   "source": [
    "# Reading MODIS landcover and lai\n",
    "- IGBG land cover class MCD12Q1 (aggregated 600m resolution)\n",
    "- LAI MOD15A2 (aggregated 600m resolution)"
   ]
  },
  {
   "cell_type": "code",
   "execution_count": null,
   "metadata": {},
   "outputs": [],
   "source": [
    "catchment_name = 'camels' # 'CONUS_HUC12' or camels\n",
    "saveCSV = True\n",
    "saveNetCDF = True"
   ]
  },
  {
   "cell_type": "code",
   "execution_count": null,
   "metadata": {},
   "outputs": [],
   "source": [
    "src_dir = '/glade/u/home/mizukami/proj/cmip6_hydro/camels/attributes/ingredient/modis'\n",
    "mapping_file = f'/glade/u/home/mizukami/proj/cmip6_hydro/camels/attributes/scripts/gen_mapping/weight_file/spatialweights_nldas600m_to_{catchment_name}.nc'\n",
    "\n",
    "# camels\n",
    "gpkg = '/glade/campaign/ral/hap/mizukami/proj/cmip6_hydro/geospatial/gagesII_671_shp_geogr.gpkg' #HCDN_nhru_final_671.buff_fix_holes.CAMELSandTDX_areabias_fix.simp0.001.level1.gpkg\n",
    "# CONUS_HUC12\n",
    "#gpkg = '/glade/campaign/ral/hap/mizukami/proj/cmip6_hydro/geospatial/conus_HUC12_merit_v7b_simplified0.001.gpkg' "
   ]
  },
  {
   "cell_type": "code",
   "execution_count": null,
   "metadata": {},
   "outputs": [],
   "source": [
    "# target catchment attribute\n",
    "catch_attrs = {\n",
    "    'CONUS_HUC12': ['HUCIDXint'],\n",
    "    'camels': ['GAGE_ID']\n",
    "}"
   ]
  },
  {
   "cell_type": "code",
   "execution_count": null,
   "metadata": {},
   "outputs": [],
   "source": [
    "# netcdf header: variable name\n",
    "nc_var = [\n",
    "    'landcover',\n",
    "    'lai',\n",
    "]\n",
    "\n",
    "IGBP = {\n",
    "    1:'Evergreen needleleaf forests',\n",
    "    2:'Evergreen broadleaf forests',\n",
    "    3:'Deciduous needleleaf forests',\n",
    "    4:'Deciduous broadleaf forests',\n",
    "    5:'Mixed forests',\n",
    "    6:'Closed shrublands',\n",
    "    7:'Open shrublands',\n",
    "    8:'Woody savannas',\n",
    "    9:'Savannas',\n",
    "    10:'Grasslands',\n",
    "    11:'Permanent wetlands',\n",
    "    12:'Croplands',\n",
    "    13:'Urban and built-up lands',\n",
    "    14:'Cropland/natural vegetation mosaics',\n",
    "    15:'Snow and ice',\n",
    "    16:'Barren',\n",
    "    17:'Water bodies',\n",
    "}"
   ]
  },
  {
   "cell_type": "code",
   "execution_count": null,
   "metadata": {},
   "outputs": [],
   "source": []
  },
  {
   "cell_type": "code",
   "execution_count": null,
   "metadata": {},
   "outputs": [],
   "source": [
    "%%time\n",
    "print(f'Reading MODIS data')\n",
    "ds = xr.open_dataset(os.path.join(src_dir, f'veg_NLDAS_float.nc')).load()\n",
    "ds['landcover'] = ds['landcover'].where(ds['landcover']>0, np.nan)\n",
    "ds['forest']    = ds['landcover'].where((ds['landcover']>=1) & (ds['landcover']<=5), 0)\n",
    "ds['forest']    = ds['forest'].where(ds['forest']==0, 1)"
   ]
  },
  {
   "cell_type": "code",
   "execution_count": null,
   "metadata": {},
   "outputs": [],
   "source": [
    "## copute root depth at 50 and 99 percentile based on IGBG class\n",
    "\n",
    "def func(x, a, b, Y):\n",
    "    return np.exp(a*x) + np.exp(b*x) + 2.0*(Y-1.0)\n",
    "\n",
    "root_param = {\n",
    "    1: {'a':6.706, 'b':2.175, 'dr':1.8, 'y05':np.nan, 'y99':np.nan},      # Evergreen needleleaf tree\n",
    "    2: {'a':7.344, 'b':1.303, 'dr':3.0, 'y05':np.nan, 'y99':np.nan},      # Evergreen broadleaf tree\n",
    "    3: {'a':7.066, 'b':1.953, 'dr':2.0, 'y05':np.nan, 'y99':np.nan},      # Deciduous needleleaf tree\n",
    "    4: {'a':5.990, 'b':1.955, 'dr':2.0, 'y05':np.nan, 'y99':np.nan},      # Deciduous broadleaf tree\n",
    "    5: {'a':4.453, 'b':1.631, 'dr':2.4, 'y05':np.nan, 'y99':np.nan},      # Mixed forest\n",
    "    6: {'a':6.326, 'b':1.567, 'dr':2.5, 'y05':np.nan, 'y99':np.nan},      # Closed shrubland\n",
    "    7: {'a':7.718, 'b':1.262, 'dr':3.1, 'y05':np.nan, 'y99':np.nan},      # Open shrubland\n",
    "    8: {'a':7.604, 'b':2.300, 'dr':1.7, 'y05':np.nan, 'y99':np.nan},      # Woody Savanna\n",
    "    9: {'a':8.235, 'b':1.627, 'dr':2.4, 'y05':np.nan, 'y99':np.nan},      # Savanna\n",
    "    10:{'a':10.74, 'b':2.608, 'dr':1.5, 'y05':np.nan, 'y99':np.nan},      # Grassland\n",
    "    11:{'a':np.nan, 'b':np.nan, 'dr':np.nan, 'y05':np.nan, 'y99':np.nan}, # Permanent wetland\n",
    "    12:{'a':5.558, 'b':2.614, 'dr':1.5, 'y05':np.nan, 'y99':np.nan},      # Cropland\n",
    "    13:{'a':5.558, 'b':2.614, 'dr':1.5, 'y05':np.nan, 'y99':np.nan},      # Urban and built-up land\n",
    "    14:{'a':5.558, 'b':2.614, 'dr':1.5, 'y05':np.nan, 'y99':np.nan},      # Cropland/natural vegetation\n",
    "    15:{'a':np.nan, 'b':np.nan, 'dr':np.nan, 'y05':np.nan, 'y99':np.nan}, # snow and ice\n",
    "    16:{'a':4.372, 'b':0.978, 'dr':4.0, 'y05':np.nan, 'y99':np.nan},      # Barren\n",
    "    17:{'a':np.nan, 'b':np.nan, 'dr':np.nan, 'y05':np.nan, 'y99':np.nan}, # water bodies\n",
    "}\n",
    "\n",
    "for lc in root_param.keys():\n",
    "    if lc== 11 or lc==15 or lc==17:\n",
    "        continue\n",
    "    root_param[lc]['y05'] = fsolve(func, -0.1, args=(root_param[lc]['a'], root_param[lc]['b'], 0.5))[0]\n",
    "    root_param[lc]['y99'] = fsolve(func, -0.1, args=(root_param[lc]['a'], root_param[lc]['b'], 0.99))[0]"
   ]
  },
  {
   "cell_type": "code",
   "execution_count": null,
   "metadata": {},
   "outputs": [],
   "source": [
    "%%time\n",
    "ds['rd05'] = util.map_param(ds['landcover'], root_param, 'y05')\n",
    "ds['rd99'] = util.map_param(ds['landcover'], root_param, 'y99')"
   ]
  },
  {
   "cell_type": "code",
   "execution_count": null,
   "metadata": {},
   "outputs": [],
   "source": [
    "ds"
   ]
  },
  {
   "cell_type": "markdown",
   "metadata": {},
   "source": [
    "## Re-mapping\n",
    "- Monthly LAI\n",
    "- Landcover class\n",
    "- Root depth"
   ]
  },
  {
   "cell_type": "code",
   "execution_count": null,
   "metadata": {},
   "outputs": [],
   "source": [
    "%%time\n",
    "# monthly weighted average\n",
    "dr_mask = xr.where(np.isnan(ds['lai'].isel(month=0)), 0, 1)\n",
    "a1 = []\n",
    "for mon in np.arange(12):\n",
    "    a1.append(util.regrid_mean(xr.open_dataset(mapping_file), ds.isel(month=mon), dr_mask, ['lai'], verbose=False))\n",
    "a = xr.concat(a1, dim=\"month\")"
   ]
  },
  {
   "cell_type": "code",
   "execution_count": null,
   "metadata": {},
   "outputs": [],
   "source": [
    "# weighted average\n",
    "dr_mask = xr.where(np.isnan(ds['rd05']), 0, 1)\n",
    "a1 = util.regrid_mean(xr.open_dataset(mapping_file), ds, dr_mask, ['rd05', 'rd99'], verbose=False)\n",
    "a = xr.merge([a, a1])"
   ]
  },
  {
   "cell_type": "code",
   "execution_count": null,
   "metadata": {},
   "outputs": [],
   "source": [
    "# Dominant class\n",
    "dr_mask = xr.where(np.isnan(ds['landcover']), 0, 1)\n",
    "a1 = util.regrid_mode(xr.open_dataset(mapping_file), ds, dr_mask, ['landcover'])\n",
    "a = xr.merge([a, a1])"
   ]
  },
  {
   "cell_type": "code",
   "execution_count": null,
   "metadata": {},
   "outputs": [],
   "source": [
    "# Forest fraction\n",
    "dr_mask = xr.where(np.isnan(ds['forest']), 0, 1)\n",
    "a1 = util.regrid_mean(xr.open_dataset(mapping_file), ds, dr_mask, ['forest'])\n",
    "a = xr.merge([a, a1['forest'].rename('forest_frac')])"
   ]
  },
  {
   "cell_type": "code",
   "execution_count": null,
   "metadata": {},
   "outputs": [],
   "source": [
    "a['lai_max'] = a['lai'].max(dim='month')\n",
    "a['lai_diff'] = a['lai_max'] - a['lai'].min(dim='month')"
   ]
  },
  {
   "cell_type": "code",
   "execution_count": null,
   "metadata": {},
   "outputs": [],
   "source": [
    "a['1st_dominant_landcover'] = a['1st_dominant_landcover'].where(a['1st_dominant_landcover']!='N/A', -999).astype(float)\n",
    "a['1st_dominant_landcover'] = a['1st_dominant_landcover'].where(~np.isnan(a['1st_dominant_landcover']), -999.0).astype(int)"
   ]
  },
  {
   "cell_type": "code",
   "execution_count": null,
   "metadata": {},
   "outputs": [],
   "source": [
    "a['2nd_dominant_landcover'] = a['2nd_dominant_landcover'].where(a['2nd_dominant_landcover']!='N/A', -999).astype(float)\n",
    "a['2nd_dominant_landcover'] = a['2nd_dominant_landcover'].where(~np.isnan(a['2nd_dominant_landcover']), -999.0).astype(int)"
   ]
  },
  {
   "cell_type": "code",
   "execution_count": null,
   "metadata": {},
   "outputs": [],
   "source": [
    "a"
   ]
  },
  {
   "cell_type": "markdown",
   "metadata": {},
   "source": [
    "## Dataset to Dataframe"
   ]
  },
  {
   "cell_type": "code",
   "execution_count": null,
   "metadata": {},
   "outputs": [],
   "source": [
    "var_list = ['forest_frac','lai_max','lai_diff','1st_dominant_landcover','1st_dominant_landcover_fraction','rd05','rd99']\n",
    "df = a[var_list].to_dataframe()"
   ]
  },
  {
   "cell_type": "markdown",
   "metadata": {},
   "source": [
    "## Save in csv or netcdf"
   ]
  },
  {
   "cell_type": "code",
   "execution_count": null,
   "metadata": {},
   "outputs": [],
   "source": [
    "if saveCSV:\n",
    "    df.to_csv(f'{catchment_name}_veg.csv', float_format='%g')\n",
    "if saveNetCDF:\n",
    "    a.to_netcdf(f'{catchment_name}_veg.nc')"
   ]
  },
  {
   "cell_type": "markdown",
   "metadata": {
    "editable": true,
    "slideshow": {
     "slide_type": ""
    },
    "tags": []
   },
   "source": [
    "## Plotting"
   ]
  },
  {
   "cell_type": "code",
   "execution_count": null,
   "metadata": {},
   "outputs": [],
   "source": [
    "%%time\n",
    "gdf_camels = util.read_shps([gpkg],catch_attrs[catchment_name])"
   ]
  },
  {
   "cell_type": "code",
   "execution_count": null,
   "metadata": {},
   "outputs": [],
   "source": [
    "gdf_camels = gdf_camels.merge(df,left_on=catch_attrs[catchment_name], right_index=True)"
   ]
  },
  {
   "cell_type": "code",
   "execution_count": null,
   "metadata": {},
   "outputs": [],
   "source": [
    "df = a[['lai']].to_dataframe().reset_index()\n",
    "df_pivot = df.pivot(index='hru', columns='month', values='lai')\n",
    "df_pivot.reset_index(inplace=True)\n",
    "df_pivot.columns.name = None  # Remove the name of the column index\n",
    "df_pivot = df_pivot.rename_axis(None, axis=1)  # Remove axis labels\n",
    "for mon in np.arange(12):\n",
    "    df_pivot.rename(columns={mon:f'lai{mon+1}'}, inplace=True)"
   ]
  },
  {
   "cell_type": "code",
   "execution_count": null,
   "metadata": {},
   "outputs": [],
   "source": [
    "gdf_camels = gdf_camels.merge(df_pivot, left_on=catch_attrs[catchment_name], right_on='hru')"
   ]
  },
  {
   "cell_type": "code",
   "execution_count": null,
   "metadata": {},
   "outputs": [],
   "source": [
    "var_name = 'rd05'\n",
    "fig, ax = plt.subplots(figsize=(6, 3), dpi=150)\n",
    "#gdf_camels.plot(ax=ax, color='white', edgecolor='black', lw=0.2)\n",
    "gdf_camels.plot(ax=ax, column=var_name, cmap='turbo',\n",
    "                norm=colors.Normalize(-0.25, -0.1),\n",
    "                legend=True\n",
    "               );\n",
    "ax.set_title(var_name);\n",
    "fig.tight_layout()\n",
    "plt.savefig(f'./figures/{catchment_name}_veg_{var_name}.png', dpi=300)"
   ]
  },
  {
   "cell_type": "code",
   "execution_count": null,
   "metadata": {},
   "outputs": [],
   "source": [
    "var_name = 'rd99'\n",
    "fig, ax = plt.subplots(figsize=(6, 3), dpi=150)\n",
    "#gdf_camels.plot(ax=ax, color='white', edgecolor='black', lw=0.2)\n",
    "gdf_camels.plot(ax=ax, column=var_name, cmap='turbo',\n",
    "                norm=colors.Normalize(-3, -1),\n",
    "                legend=True\n",
    "               );\n",
    "ax.set_title(var_name);\n",
    "plt.savefig(f'./figures/{catchment_name}_veg_{var_name}.png', dpi=300)"
   ]
  },
  {
   "cell_type": "code",
   "execution_count": null,
   "metadata": {},
   "outputs": [],
   "source": [
    "var_name = '1st_dominant_landcover'\n",
    "fig, ax = plt.subplots(figsize=(6, 3), dpi=150)\n",
    "#gdf_camels.plot(ax=ax, color='white', edgecolor='black', lw=0.2)\n",
    "gdf_camels.plot(ax=ax, column=var_name, cmap='turbo',\n",
    "                norm=colors.Normalize(1, 17),\n",
    "                legend=True\n",
    "               );\n",
    "ax.set_title(var_name);\n",
    "plt.savefig(f'./figures/{catchment_name}_veg_{var_name}.png', dpi=300)"
   ]
  },
  {
   "cell_type": "code",
   "execution_count": null,
   "metadata": {},
   "outputs": [],
   "source": [
    "var_name = 'lai_max'\n",
    "fig, ax = plt.subplots(figsize=(6, 3), dpi=150)\n",
    "#gdf_camels.plot(ax=ax, color='white', edgecolor='black', lw=0.2)\n",
    "gdf_camels.plot(ax=ax, column=var_name, cmap='turbo',\n",
    "                norm=colors.Normalize(0, 6),\n",
    "                legend=True\n",
    "               );\n",
    "ax.set_title(var_name);\n",
    "plt.savefig(f'./figures/{catchment_name}_veg_{var_name}.png', dpi=300)"
   ]
  },
  {
   "cell_type": "code",
   "execution_count": null,
   "metadata": {},
   "outputs": [],
   "source": [
    "var_name = 'forest_frac'\n",
    "fig, ax = plt.subplots(figsize=(6, 3), dpi=150)\n",
    "#gdf_camels.plot(ax=ax, color='white', edgecolor='black', lw=0.2)\n",
    "gdf_camels.plot(ax=ax, column=var_name, cmap='turbo',\n",
    "                norm=colors.Normalize(0, 1),\n",
    "                legend=True\n",
    "               );\n",
    "ax.set_title(var_name);\n",
    "fig.tight_layout()\n",
    "plt.savefig(f'./figures/{catchment_name}_veg_{var_name}.png', dpi=300)"
   ]
  },
  {
   "cell_type": "code",
   "execution_count": null,
   "metadata": {},
   "outputs": [],
   "source": []
  }
 ],
 "metadata": {
  "kernelspec": {
   "display_name": "NPL 2024b",
   "language": "python",
   "name": "npl-2024b"
  },
  "language_info": {
   "codemirror_mode": {
    "name": "ipython",
    "version": 3
   },
   "file_extension": ".py",
   "mimetype": "text/x-python",
   "name": "python",
   "nbconvert_exporter": "python",
   "pygments_lexer": "ipython3",
   "version": "3.11.9"
  }
 },
 "nbformat": 4,
 "nbformat_minor": 4
}
