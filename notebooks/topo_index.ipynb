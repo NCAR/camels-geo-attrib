{
 "cells": [
  {
   "cell_type": "markdown",
   "metadata": {},
   "source": [
    "# Compute topography indices"
   ]
  },
  {
   "cell_type": "code",
   "execution_count": null,
   "metadata": {},
   "outputs": [],
   "source": [
    "%matplotlib inline  \n",
    "import os, sys\n",
    "import glob\n",
    "import xarray as xr\n",
    "import geopandas as gpd\n",
    "import numpy as np\n",
    "import pandas as pd\n",
    "import matplotlib.pyplot as plt\n",
    "import matplotlib.colors as colors\n",
    "\n",
    "import scripts.utility as util\n",
    "\n",
    "print(\"\\nThe Python version: %s.%s.%s\" % sys.version_info[:3])"
   ]
  },
  {
   "cell_type": "markdown",
   "metadata": {},
   "source": [
    "## Reading MERIT topography"
   ]
  },
  {
   "cell_type": "code",
   "execution_count": null,
   "metadata": {},
   "outputs": [],
   "source": [
    "catchment_name = 'camels' #or camels\n",
    "saveCSV = True\n",
    "saveNetCDF = True"
   ]
  },
  {
   "cell_type": "code",
   "execution_count": null,
   "metadata": {},
   "outputs": [],
   "source": [
    "src_dir = '/glade/u/home/mizukami/proj/cmip6_hydro/camels/attributes/ingredient/topography'\n",
    "mapping_file = f'/glade/u/home/mizukami/proj/cmip6_hydro/camels/attributes/scripts/gen_mapping/weight_file/spatialweights_loca2_600m_to_{catchment_name}.nc' \n",
    "#CONUS_HUC12\n",
    "#gpkg = '/glade/campaign/ral/hap/mizukami/proj/cmip6_hydro/geospatial/conus_HUC12_merit_v7b_simplified0.001.gpkg' \n",
    "# camels\n",
    "gpkg = '/glade/campaign/ral/hap/mizukami/proj/cmip6_hydro/geospatial/gagesII_671_shp_geogr.gpkg' #HCDN_nhru_final_671.buff_fix_holes.CAMELSandTDX_areabias_fix.simp0.001.level1.gpkg"
   ]
  },
  {
   "cell_type": "code",
   "execution_count": null,
   "metadata": {},
   "outputs": [],
   "source": [
    "# target catchment attribute\n",
    "catch_attrs = {\n",
    "    'CONUS_HUC12': ['HUCIDXint'],\n",
    "    'camels': ['GAGE_ID']\n",
    "}"
   ]
  },
  {
   "cell_type": "code",
   "execution_count": null,
   "metadata": {},
   "outputs": [],
   "source": [
    "# netcdf header: variable name\n",
    "nc_var = {\n",
    "    'dem':{'unit':'m','long_name':'mean altitude'},\n",
    "    'slope':{'unit':'percent','long_name':'mean slope'},\n",
    "    'easting':{'unit':'-','long_name':'mean eastness - sine of aspect: compass direction that a topographic slope faces, measured in degrees from north clockwise'},\n",
    "    'northing':{'unit':'-','long_name':'mean northness - cosine of aspect: compass direction that a topographic slope faces, measured in degrees from north clockwise.'},\n",
    "}"
   ]
  },
  {
   "cell_type": "code",
   "execution_count": null,
   "metadata": {},
   "outputs": [],
   "source": [
    "%%time\n",
    "print(f'Reading dem data')\n",
    "for ix, var in enumerate(nc_var.keys()):\n",
    "    print(f'{ix} {var}')\n",
    "    if ix==0:\n",
    "        ds = xr.open_dataset(os.path.join(src_dir, f'MERIT_LOCA2_{var}_600m.nc')).load().rename({'Band1':var})\n",
    "    else:\n",
    "        ds = ds.merge(xr.open_dataset(os.path.join(src_dir, f'MERIT_LOCA2_{var}_600m.nc')).load().rename({'Band1':var}))\n",
    "ds['slope'] = np.tan(ds['slope']*np.pi/360)\n",
    "ds=ds.rename({\n",
    "    'dem': 'elevation',\n",
    "    'northing': 'northness',\n",
    "    'easting': 'eastness'})"
   ]
  },
  {
   "cell_type": "code",
   "execution_count": null,
   "metadata": {},
   "outputs": [],
   "source": []
  },
  {
   "cell_type": "markdown",
   "metadata": {},
   "source": [
    "## Re-mapping\n",
    "- Elevation [m], slope [m/m]"
   ]
  },
  {
   "cell_type": "code",
   "execution_count": null,
   "metadata": {},
   "outputs": [],
   "source": [
    "%%time\n",
    "dr_mask = xr.where(np.isnan(ds['elevation']), 0, 1)\n",
    "a = util.regrid_mean(xr.open_dataset(mapping_file), ds, dr_mask, ['elevation', 'slope', 'eastness', 'northness'])\n",
    "a"
   ]
  },
  {
   "cell_type": "markdown",
   "metadata": {},
   "source": [
    "## Dataset to Dataframe"
   ]
  },
  {
   "cell_type": "code",
   "execution_count": null,
   "metadata": {},
   "outputs": [],
   "source": [
    "df = a.to_dataframe()"
   ]
  },
  {
   "cell_type": "markdown",
   "metadata": {},
   "source": [
    "## Save in csv or netcdf"
   ]
  },
  {
   "cell_type": "code",
   "execution_count": null,
   "metadata": {},
   "outputs": [],
   "source": [
    "if saveCSV:\n",
    "    df.to_csv(f'{catchment_name}_topo.csv', float_format='%g')\n",
    "if saveNetCDF:\n",
    "    a.to_netcdf(f'{catchment_name}_topo.nc')"
   ]
  },
  {
   "cell_type": "markdown",
   "metadata": {},
   "source": [
    "## Plotting"
   ]
  },
  {
   "cell_type": "code",
   "execution_count": null,
   "metadata": {},
   "outputs": [],
   "source": [
    "gdf_camels = util.read_shps([gpkg],catch_attrs[catchment_name])"
   ]
  },
  {
   "cell_type": "code",
   "execution_count": null,
   "metadata": {},
   "outputs": [],
   "source": [
    "gdf_camels = gdf_camels.merge(df,left_on=catch_attrs[catchment_name], right_index=True)"
   ]
  },
  {
   "cell_type": "code",
   "execution_count": null,
   "metadata": {},
   "outputs": [],
   "source": [
    "var_name = 'elevation'\n",
    "fig, ax = plt.subplots(figsize=(6, 3), dpi=150)\n",
    "gdf_camels.plot(ax=ax, column=var_name, cmap='turbo',\n",
    "                norm=colors.Normalize(0, 3000),\n",
    "                legend=True\n",
    "               );\n",
    "ax.set_title(var_name);\n",
    "fig.tight_layout()\n",
    "plt.savefig(f'./figures/{catchment_name}_topo_{var_name}.png', dpi=300)"
   ]
  },
  {
   "cell_type": "code",
   "execution_count": null,
   "metadata": {},
   "outputs": [],
   "source": [
    "var_name = 'slope'\n",
    "fig, ax = plt.subplots(figsize=(6, 3), dpi=150)\n",
    "gdf_camels.plot(ax=ax, column=var_name, cmap='turbo',\n",
    "                norm=colors.Normalize(0, 0.2),\n",
    "                legend=True\n",
    "               );\n",
    "ax.set_title(var_name);\n",
    "fig.tight_layout()\n",
    "plt.savefig(f'./figures/{catchment_name}_topo_{var_name}.png', dpi=300)"
   ]
  },
  {
   "cell_type": "code",
   "execution_count": null,
   "metadata": {},
   "outputs": [],
   "source": [
    "var_name = 'northness'\n",
    "fig, ax = plt.subplots(figsize=(6, 3), dpi=150)\n",
    "gdf_camels.plot(ax=ax, column=var_name, cmap='turbo',\n",
    "                norm=colors.Normalize(-0.2, 0.2),\n",
    "                legend=True\n",
    "               );\n",
    "ax.set_title(var_name);\n",
    "fig.tight_layout()\n",
    "plt.savefig(f'./figures/{catchment_name}_topo_{var_name}.png', dpi=300)"
   ]
  },
  {
   "cell_type": "code",
   "execution_count": null,
   "metadata": {},
   "outputs": [],
   "source": [
    "var_name = 'eastness'\n",
    "fig, ax = plt.subplots(figsize=(6, 3), dpi=150)\n",
    "gdf_camels.plot(ax=ax, column=var_name, cmap='turbo',\n",
    "                norm=colors.Normalize(-0.2, 0.2),\n",
    "                legend=True\n",
    "               );\n",
    "ax.set_title(var_name);\n",
    "fig.tight_layout()\n",
    "plt.savefig(f'./figures/{catchment_name}_topo_{var_name}.png', dpi=300)"
   ]
  },
  {
   "cell_type": "code",
   "execution_count": null,
   "metadata": {},
   "outputs": [],
   "source": []
  }
 ],
 "metadata": {
  "kernelspec": {
   "display_name": "NPL 2024b",
   "language": "python",
   "name": "npl-2024b"
  },
  "language_info": {
   "codemirror_mode": {
    "name": "ipython",
    "version": 3
   },
   "file_extension": ".py",
   "mimetype": "text/x-python",
   "name": "python",
   "nbconvert_exporter": "python",
   "pygments_lexer": "ipython3",
   "version": "3.11.9"
  }
 },
 "nbformat": 4,
 "nbformat_minor": 4
}
