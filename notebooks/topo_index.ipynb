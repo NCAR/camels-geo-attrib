{
 "cells": [
  {
   "cell_type": "markdown",
   "metadata": {},
   "source": [
    "# Compute topography indices\n",
    "**Please clean all outputs when committing all the changes in git.**"
   ]
  },
  {
   "cell_type": "code",
   "execution_count": null,
   "metadata": {},
   "outputs": [],
   "source": [
    "%matplotlib inline  \n",
    "import os, sys\n",
    "import glob\n",
    "import xarray as xr\n",
    "import geopandas as gpd\n",
    "import numpy as np\n",
    "import pandas as pd\n",
    "import matplotlib.pyplot as plt\n",
    "import matplotlib.colors as colors\n",
    "\n",
    "import scripts.utility as util\n",
    "\n",
    "print(\"\\nThe Python version: %s.%s.%s\" % sys.version_info[:3])"
   ]
  },
  {
   "cell_type": "markdown",
   "metadata": {},
   "source": [
    "-------------------------\n",
    "## 1. Setup <a id='setup'></a>"
   ]
  },
  {
   "cell_type": "code",
   "execution_count": null,
   "metadata": {
    "editable": true,
    "slideshow": {
     "slide_type": ""
    },
    "tags": []
   },
   "outputs": [],
   "source": [
    "setup = util.load_yaml(\"./topo_index_setup.yaml\")\n",
    "\n",
    "catchment_name = setup[\"catchment_name\"]  # Catchment case: CONUS_HUC12, camels, camelsx-v3\n",
    "serial = setup[\"serial\"] # True: dask distributed enabled\n",
    "saveCSV = setup[\"saveCSV\"] # True: save attributes for each HRU in csv\n",
    "saveNetCDF = setup[\"saveNetCDF\"] # True: save attributes for each HRU in netcdf\n",
    "remap = setup[\"remap\"] # True: remap meteorological time series to HRUs\n",
    "\n",
    "# files and directories\n",
    "src_dir = setup[\"src_dir\"]\n",
    "catch_gpkg = setup[\"catch_gpkg\"]\n",
    "mapping_file = setup[\"mapping_file\"]\n",
    "\n",
    "# topography data meta\n",
    "nc_topo_dict = setup['nc_topo_dict']\n",
    "\n",
    "# catchment meta\n",
    "catch_attrs = setup[\"catch_attrs\"]\n",
    "\n",
    "print('-- Setup:')\n",
    "print(f\" Dask not enabled: {serial}\")\n",
    "print(f\" catchment_name: {catchment_name}\")\n",
    "print(f\" saveCSV: {saveCSV}\")\n",
    "print(f\" saveNetCDF: {saveNetCDF}\")\n",
    "print(f\" remap: {remap}\")\n",
    "print(f\" topography data directory: {src_dir}\")\n",
    "print(f\" catchment gpkg: {catch_gpkg}\")\n",
    "print(f\" mapping_file: {mapping_file}\")"
   ]
  },
  {
   "cell_type": "code",
   "execution_count": null,
   "metadata": {},
   "outputs": [],
   "source": [
    "%%time\n",
    "print(f'Reading dem data')\n",
    "for ix, var in enumerate(nc_topo_dict.keys()):\n",
    "    print(f'{ix} {var}')\n",
    "    if ix==0:\n",
    "        ds = xr.open_dataset(os.path.join(src_dir, f'MERIT_LOCA2_{var}_0.02.nc')).load()\n",
    "    else:\n",
    "        ds = ds.merge(xr.open_dataset(os.path.join(src_dir, f'MERIT_LOCA2_{var}_0.02.nc')).load())\n",
    "ds['slope'] = np.tan(ds['slope']/100)"
   ]
  },
  {
   "cell_type": "code",
   "execution_count": null,
   "metadata": {},
   "outputs": [],
   "source": []
  },
  {
   "cell_type": "markdown",
   "metadata": {},
   "source": [
    "## Re-mapping\n",
    "- Elevation [m], slope [m/m]"
   ]
  },
  {
   "cell_type": "code",
   "execution_count": null,
   "metadata": {},
   "outputs": [],
   "source": [
    "%%time\n",
    "dr_mask = xr.where(np.isnan(ds['elevation']), 0, 1)\n",
    "a = util.regrid_mean(xr.open_dataset(mapping_file), ds, dr_mask, ['elevation', 'slope', 'eastness', 'northness'])\n",
    "a"
   ]
  },
  {
   "cell_type": "markdown",
   "metadata": {},
   "source": [
    "## Dataset to Dataframe"
   ]
  },
  {
   "cell_type": "code",
   "execution_count": null,
   "metadata": {},
   "outputs": [],
   "source": [
    "df = a.to_dataframe()"
   ]
  },
  {
   "cell_type": "markdown",
   "metadata": {},
   "source": [
    "## Save in csv or netcdf"
   ]
  },
  {
   "cell_type": "code",
   "execution_count": null,
   "metadata": {},
   "outputs": [],
   "source": [
    "if saveCSV:\n",
    "    df.to_csv(os.path.join('output', f'{catchment_name}_topo.csv'), float_format='%g')\n",
    "if saveNetCDF:\n",
    "    a.to_netcdf(os.path.join('output', f'{catchment_name}_topo.nc'))"
   ]
  },
  {
   "cell_type": "markdown",
   "metadata": {},
   "source": [
    "## Plotting"
   ]
  },
  {
   "cell_type": "code",
   "execution_count": null,
   "metadata": {},
   "outputs": [],
   "source": [
    "gdf_camels = util.read_shps([catch_gpkg], [catch_attrs[catchment_name]['id']])"
   ]
  },
  {
   "cell_type": "code",
   "execution_count": null,
   "metadata": {},
   "outputs": [],
   "source": [
    "gdf_camels = gdf_camels.merge(df,left_on=catch_attrs[catchment_name]['id'], right_index=True)"
   ]
  },
  {
   "cell_type": "code",
   "execution_count": null,
   "metadata": {},
   "outputs": [],
   "source": [
    "var_name = 'elevation'\n",
    "fig, ax = plt.subplots(figsize=(6, 3), dpi=150)\n",
    "gdf_camels.plot(ax=ax, column=var_name, cmap='turbo',\n",
    "                norm=colors.Normalize(0, 3000),\n",
    "                legend=True\n",
    "               );\n",
    "ax.set_title(var_name);\n",
    "fig.tight_layout()\n",
    "plt.savefig(f'./figures/{catchment_name}_topo_{var_name}.png', dpi=300)"
   ]
  },
  {
   "cell_type": "code",
   "execution_count": null,
   "metadata": {},
   "outputs": [],
   "source": [
    "var_name = 'slope'\n",
    "fig, ax = plt.subplots(figsize=(6, 3), dpi=150)\n",
    "gdf_camels.plot(ax=ax, column=var_name, cmap='turbo',\n",
    "                norm=colors.Normalize(0, 0.1),\n",
    "                legend=True\n",
    "               );\n",
    "ax.set_title(var_name);\n",
    "fig.tight_layout()\n",
    "plt.savefig(f'./figures/{catchment_name}_topo_{var_name}.png', dpi=300)"
   ]
  },
  {
   "cell_type": "code",
   "execution_count": null,
   "metadata": {},
   "outputs": [],
   "source": [
    "var_name = 'northness'\n",
    "fig, ax = plt.subplots(figsize=(6, 3), dpi=150)\n",
    "gdf_camels.plot(ax=ax, column=var_name, cmap='turbo',\n",
    "                norm=colors.Normalize(-0.4, 0.4),\n",
    "                legend=True\n",
    "               );\n",
    "ax.set_title(var_name);\n",
    "fig.tight_layout()\n",
    "plt.savefig(f'./figures/{catchment_name}_topo_{var_name}.png', dpi=300)"
   ]
  },
  {
   "cell_type": "code",
   "execution_count": null,
   "metadata": {},
   "outputs": [],
   "source": [
    "var_name = 'eastness'\n",
    "fig, ax = plt.subplots(figsize=(6, 3), dpi=150)\n",
    "gdf_camels.plot(ax=ax, column=var_name, cmap='turbo',\n",
    "                norm=colors.Normalize(-0.4, 0.4),\n",
    "                legend=True\n",
    "               );\n",
    "ax.set_title(var_name);\n",
    "fig.tight_layout()\n",
    "plt.savefig(f'./figures/{catchment_name}_topo_{var_name}.png', dpi=300)"
   ]
  },
  {
   "cell_type": "code",
   "execution_count": null,
   "metadata": {},
   "outputs": [],
   "source": []
  }
 ],
 "metadata": {
  "kernelspec": {
   "display_name": "NPL 2024b",
   "language": "python",
   "name": "npl-2024b"
  },
  "language_info": {
   "codemirror_mode": {
    "name": "ipython",
    "version": 3
   },
   "file_extension": ".py",
   "mimetype": "text/x-python",
   "name": "python",
   "nbconvert_exporter": "python",
   "pygments_lexer": "ipython3",
   "version": "3.11.9"
  }
 },
 "nbformat": 4,
 "nbformat_minor": 4
}
