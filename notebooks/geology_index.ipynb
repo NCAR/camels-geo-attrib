{
 "cells": [
  {
   "cell_type": "markdown",
   "metadata": {},
   "source": [
    "# Compute geology indices"
   ]
  },
  {
   "cell_type": "code",
   "execution_count": null,
   "metadata": {},
   "outputs": [],
   "source": [
    "%matplotlib inline  \n",
    "import os, sys\n",
    "import xarray as xr\n",
    "import geopandas as gpd\n",
    "import numpy as np\n",
    "import pandas as pd\n",
    "import matplotlib.colors as colors\n",
    "import matplotlib.pyplot as plt\n",
    "\n",
    "import scripts.utility as util\n",
    "\n",
    "print(\"\\nThe Python version: %s.%s.%s\" % sys.version_info[:3])"
   ]
  },
  {
   "cell_type": "markdown",
   "metadata": {},
   "source": [
    "## Reading LiMW2015 and GLHYMPS geopackage data"
   ]
  },
  {
   "cell_type": "code",
   "execution_count": null,
   "metadata": {},
   "outputs": [],
   "source": [
    "catchment_name = 'camels' #  CONUS_HUC12 or camels\n",
    "saveCSV = True\n",
    "saveNetCDF = True"
   ]
  },
  {
   "cell_type": "code",
   "execution_count": null,
   "metadata": {},
   "outputs": [],
   "source": [
    "src_dir = '/glade/u/home/mizukami/proj/cmip6_hydro/camels/attributes/ingredient/geology'\n",
    "LiMW2015_gpkg_list = [os.path.join(src_dir, 'LiMW2015_North_America_WGS84.gpkg')]\n",
    "GLHYMPS_gpkg_list = [os.path.join(src_dir, 'GLHYMPS_North_America_WGS84.gpkg')]\n",
    "\n",
    "# camels basin\n",
    "gpkg = '/glade/campaign/ral/hap/mizukami/proj/cmip6_hydro/geospatial/gagesII_671_shp_geogr.gpkg' #HCDN_nhru_final_671.buff_fix_holes.CAMELSandTDX_areabias_fix.simp0.001.level1.gpkg\n",
    "LiMW2015_mapping_file = '/glade/u/home/mizukami/proj/cmip6_hydro/camels/attributes/scripts/gen_mapping/weight_file/spatialweights_LiMW2015_to_camels.nc'\n",
    "GLHYMPS_mapping_file = '/glade/u/home/mizukami/proj/cmip6_hydro/camels/attributes/scripts/gen_mapping/weight_file/spatialweights_GLHYMPS_to_camels.nc'\n",
    "# HUC12\n",
    "#gpkg = '/glade/campaign/ral/hap/mizukami/proj/cmip6_hydro/geospatial/conus_HUC12_merit_v7b_simplified0.001.gpkg'\n",
    "#LiMW2015_mapping_file = '/glade/u/home/mizukami/proj/cmip6_hydro/camels/attributes/scripts/gen_mapping/weight_file/spatialweights_LiMW2015_to_CONUS_HUC12.nc'\n",
    "#GLHYMPS_mapping_file = '/glade/u/home/mizukami/proj/cmip6_hydro/camels/attributes/scripts/gen_mapping/weight_file/spatialweights_GLHYMPS_to_CONUS_HUC12.nc'\n"
   ]
  },
  {
   "cell_type": "code",
   "execution_count": null,
   "metadata": {},
   "outputs": [],
   "source": [
    "# netcdf header: variable name\n",
    "LiMW2015_attr_dict = {\n",
    "    'OBJECTID':'numeric polygon ID',\n",
    "    'IDENTITY_':'ID',\n",
    "    'xx':'The first level lithological class ',\n",
    "}\n",
    "\n",
    "GLHYMPS_attr_dict = {\n",
    "    'OBJECTID':'numeric polygon ID',\n",
    "    'IDENTITY_':'ID',\n",
    "    'Porosity':'subsurface porosity',\n",
    "    'Permeability_permafrost':'near-surface permeability (log10) with permafrost effects',\n",
    "    'Permeability_no_permafrost':'near-surface permeability (log10) neglecting permafrost effects'\n",
    "} # use Permeability_permafrost"
   ]
  },
  {
   "cell_type": "code",
   "execution_count": null,
   "metadata": {},
   "outputs": [],
   "source": [
    "# target catchment attribute\n",
    "catch_attrs = {\n",
    "    'CONUS_HUC12': ['HUCIDXint'],\n",
    "    'camels': ['GAGE_ID']\n",
    "}"
   ]
  },
  {
   "cell_type": "code",
   "execution_count": null,
   "metadata": {},
   "outputs": [],
   "source": [
    "GLiM_class = {\n",
    "    \"su\":{\"class\":\"Unconsolidated sediments\", \"color\":\"lightgoldenrod1\"},\n",
    "    \"ss\":{\"class\":\"Siliciclastic sedimentary rocks\", \"color\":\"goldenrod\"},\n",
    "    \"sm\":{\"class\":\"Mixed sedimentary rocks\", \"color\":\"burlywood4\"},\n",
    "    \"py\":{\"class\":\"Pyroclastics\", \"color\":\"tan4\"},\n",
    "    \"sc\":{\"class\":\"Carbonate sedimentary rocks\", \"color\":\"steelblue3\"},\n",
    "    \"ev\":{\"class\":\"Evaporites\", \"color\":\"olivedrab1\"},\n",
    "    \"mt\":{\"class\":\"Metamorphics\", \"color\":\"palegreen3\"},\n",
    "    \"pa\":{\"class\":\"Acid plutonic rocks\", \"color\":\"brown3\"},\n",
    "    \"pi\":{\"class\":\"Intermediate plutonic rocks\", \"color\":\"violetred4\"},\n",
    "    \"pb\":{\"class\":\"Basic plutonic rocks\", \"color\":\"purple4\"},\n",
    "    \"va\":{\"class\":\"Acid volcanic rocks\", \"color\":\"pink\"},\n",
    "    \"vi\":{\"class\":\"Intermediate volcanic rocks\", \"color\":\"orchid2\"},\n",
    "    \"vb\":{\"class\":\"Basic volcanic rocks\", \"color\":\"magenta3\"},\n",
    "    \"ig\":{\"class\":\"Ice and glaciers\", \"color\":\"paleturquoise1\"},\n",
    "    \"wb\":{\"class\":\"Water bodies\", \"color\":\"turquoise2\"},\n",
    "    \"nd\":{\"class\":\"No Data\", \"color\":\"slategray\"},\n",
    "}"
   ]
  },
  {
   "cell_type": "code",
   "execution_count": null,
   "metadata": {},
   "outputs": [],
   "source": [
    "%%time\n",
    "print(f'Reading LiMW2015 geology data')\n",
    "gdf_LiMW2015 = util.read_shps(LiMW2015_gpkg_list,list(LiMW2015_attr_dict.keys()))\n",
    "ds_LiMW2015 = gdf_LiMW2015.rename(columns={'OBJECTID':'hru'}).set_index('hru').to_xarray()\n",
    "ds_LiMW2015 = ds_LiMW2015.rename({'xx':'lithological_class'})\n",
    "ds_LiMW2015['carbonate_rock'] = xr.DataArray(np.ones(len(ds_LiMW2015['hru']), dtype=int), dims=ds_LiMW2015.dims, coords=ds_LiMW2015.coords)\n",
    "ds_LiMW2015['carbonate_rock'] = ds_LiMW2015['carbonate_rock'].where(ds_LiMW2015['lithological_class']=='sc', 0)\n",
    "ds_LiMW2015"
   ]
  },
  {
   "cell_type": "code",
   "execution_count": null,
   "metadata": {},
   "outputs": [],
   "source": [
    "%%time\n",
    "print(f'Reading GLHYMPS geology data')\n",
    "gdf_GLHYMPS = util.read_shps(GLHYMPS_gpkg_list,list(GLHYMPS_attr_dict.keys()))\n",
    "ds_GLHYMPS = gdf_GLHYMPS.rename(columns={'OBJECTID':'hru'}).set_index('hru').to_xarray()\n",
    "ds_GLHYMPS"
   ]
  },
  {
   "cell_type": "markdown",
   "metadata": {},
   "source": [
    "## Re-mapping\n",
    "- 1st dominant class\n",
    "- 2nd cominant class\n",
    "- porosity\n",
    "- Permeability"
   ]
  },
  {
   "cell_type": "code",
   "execution_count": null,
   "metadata": {},
   "outputs": [],
   "source": [
    "%%time\n",
    "dr_mask = xr.where(np.isnan(ds_LiMW2015['carbonate_rock']),0,1)\n",
    "a = util.remap_mode(xr.open_dataset(LiMW2015_mapping_file), ds_LiMW2015, dr_mask, ['lithological_class'])\n",
    "a['1st_dominant_lithological_class_fraction'] = a['1st_dominant_lithological_class_fraction'].where(a['1st_dominant_lithological_class']!='N/A', 0)\n",
    "a['2nd_dominant_lithological_class_fraction'] = a['2nd_dominant_lithological_class_fraction'].where(a['2nd_dominant_lithological_class']!='N/A', 0)"
   ]
  },
  {
   "cell_type": "code",
   "execution_count": null,
   "metadata": {},
   "outputs": [],
   "source": [
    "%%time\n",
    "# carbonate rock fraction\n",
    "a1 = util.remap_mean(xr.open_dataset(LiMW2015_mapping_file), ds_LiMW2015, dr_mask, ['carbonate_rock'])\n",
    "a = xr.merge([a, a1['carbonate_rock'].rename('carbonate_rock_frac')])"
   ]
  },
  {
   "cell_type": "code",
   "execution_count": null,
   "metadata": {},
   "outputs": [],
   "source": [
    "%%time\n",
    "dr_mask = xr.where(np.isnan(ds_GLHYMPS['Porosity']),0,1)\n",
    "a1 = util.remap_mean(xr.open_dataset(GLHYMPS_mapping_file), ds_GLHYMPS, dr_mask, ['Porosity', 'Permeability_permafrost'])\n",
    "a = xr.merge([a, a1])\n",
    "a"
   ]
  },
  {
   "cell_type": "markdown",
   "metadata": {},
   "source": [
    "## Dataset to Dataframe"
   ]
  },
  {
   "cell_type": "code",
   "execution_count": null,
   "metadata": {},
   "outputs": [],
   "source": [
    "df = a.to_dataframe()"
   ]
  },
  {
   "cell_type": "markdown",
   "metadata": {},
   "source": [
    "## Save in csv or netcdf"
   ]
  },
  {
   "cell_type": "code",
   "execution_count": null,
   "metadata": {},
   "outputs": [],
   "source": [
    "if saveCSV:\n",
    "    df.to_csv(f'{catchment_name}_geol.csv', float_format='%g')\n",
    "if saveNetCDF:\n",
    "    a.to_netcdf(f'{catchment_name}_geol.nc')"
   ]
  },
  {
   "cell_type": "markdown",
   "metadata": {
    "editable": true,
    "slideshow": {
     "slide_type": ""
    },
    "tags": []
   },
   "source": [
    "## Plotting"
   ]
  },
  {
   "cell_type": "code",
   "execution_count": null,
   "metadata": {},
   "outputs": [],
   "source": [
    "%%time\n",
    "gdf_camels = util.read_shps([gpkg],catch_attrs[catchment_name])"
   ]
  },
  {
   "cell_type": "code",
   "execution_count": null,
   "metadata": {},
   "outputs": [],
   "source": [
    "gdf_camels = gdf_camels.merge(a[['2nd_dominant_lithological_class',\n",
    "                                 '2nd_dominant_lithological_class_fraction',\n",
    "                                 '1st_dominant_lithological_class', \n",
    "                                 '1st_dominant_lithological_class_fraction',\n",
    "                                 'carbonate_rock_frac',\n",
    "                                 'Porosity', \n",
    "                                 'Permeability_permafrost']].to_dataframe(),left_on=catch_attrs[catchment_name], right_index=True)"
   ]
  },
  {
   "cell_type": "code",
   "execution_count": null,
   "metadata": {},
   "outputs": [],
   "source": [
    "var_name = '1st_dominant_lithological_class'\n",
    "fig, ax = plt.subplots(figsize=(6, 3), dpi=150)\n",
    "gdf_camels.plot(ax=ax, column=var_name, cmap='turbo',\n",
    "                legend=True, legend_kwds={'fontsize':'xx-small','loc':'best'},\n",
    "               );\n",
    "ax.set_title(var_name);\n",
    "fig.tight_layout()\n",
    "plt.savefig(f'./figures/{catchment_name}_geol_{var_name}.png', dpi=300)"
   ]
  },
  {
   "cell_type": "code",
   "execution_count": null,
   "metadata": {},
   "outputs": [],
   "source": [
    "var_name = '1st_dominant_lithological_class_fraction'\n",
    "fig, ax = plt.subplots(figsize=(6, 3), dpi=150)\n",
    "gdf_camels.plot(ax=ax, column=var_name, cmap='turbo',\n",
    "                legend=True\n",
    "               );\n",
    "ax.set_title(var_name);\n",
    "fig.tight_layout()\n",
    "plt.savefig(f'./figures/{catchment_name}_geol_{var_name}.png', dpi=300)"
   ]
  },
  {
   "cell_type": "code",
   "execution_count": null,
   "metadata": {},
   "outputs": [],
   "source": [
    "var_name = 'carbonate_rock_frac'\n",
    "fig, ax = plt.subplots(figsize=(6, 3), dpi=150)\n",
    "gdf_camels.plot(ax=ax, column=var_name, cmap='turbo',\n",
    "                legend=True\n",
    "               );\n",
    "ax.set_title(var_name);\n",
    "fig.tight_layout()\n",
    "plt.savefig(f'./figures/{catchment_name}_geol_{var_name}.png', dpi=300)"
   ]
  },
  {
   "cell_type": "code",
   "execution_count": null,
   "metadata": {},
   "outputs": [],
   "source": [
    "var_name = 'Porosity'\n",
    "fig, ax = plt.subplots(figsize=(6, 3), dpi=150)\n",
    "gdf_camels.plot(ax=ax, column=var_name, cmap='turbo',\n",
    "                norm=colors.Normalize(0, 0.25),\n",
    "                legend=True\n",
    "               );\n",
    "ax.set_title(var_name);\n",
    "fig.tight_layout()\n",
    "plt.savefig(f'./figures/{catchment_name}_geol_{var_name}.png', dpi=300)"
   ]
  },
  {
   "cell_type": "code",
   "execution_count": null,
   "metadata": {},
   "outputs": [],
   "source": [
    "var_name = 'Permeability_permafrost'\n",
    "fig, ax = plt.subplots(figsize=(6, 3), dpi=150)\n",
    "gdf_camels.plot(ax=ax, column=var_name, cmap='turbo',\n",
    "                norm=colors.Normalize(-20, -10),\n",
    "                legend=True\n",
    "               );\n",
    "ax.set_title(f'{var_name} log90');\n",
    "fig.tight_layout()\n",
    "plt.savefig(f'./figures/{catchment_name}_geol_{var_name}.png', dpi=300)"
   ]
  },
  {
   "cell_type": "code",
   "execution_count": null,
   "metadata": {},
   "outputs": [],
   "source": []
  }
 ],
 "metadata": {
  "kernelspec": {
   "display_name": "NPL 2024b",
   "language": "python",
   "name": "npl-2024b"
  },
  "language_info": {
   "codemirror_mode": {
    "name": "ipython",
    "version": 3
   },
   "file_extension": ".py",
   "mimetype": "text/x-python",
   "name": "python",
   "nbconvert_exporter": "python",
   "pygments_lexer": "ipython3",
   "version": "3.11.9"
  }
 },
 "nbformat": 4,
 "nbformat_minor": 4
}
