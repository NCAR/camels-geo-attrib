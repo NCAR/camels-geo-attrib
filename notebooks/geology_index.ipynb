{
 "cells": [
  {
   "cell_type": "markdown",
   "metadata": {},
   "source": [
    "# Compute geology indices\n",
    "**Please clean all outputs when committing all the changes in git.**"
   ]
  },
  {
   "cell_type": "code",
   "execution_count": null,
   "metadata": {},
   "outputs": [],
   "source": [
    "%matplotlib inline  \n",
    "import os, sys\n",
    "import xarray as xr\n",
    "import geopandas as gpd\n",
    "import numpy as np\n",
    "import pandas as pd\n",
    "import matplotlib.colors as colors\n",
    "import matplotlib.pyplot as plt\n",
    "\n",
    "import scripts.utility as util\n",
    "\n",
    "print(\"\\nThe Python version: %s.%s.%s\" % sys.version_info[:3])"
   ]
  },
  {
   "cell_type": "markdown",
   "metadata": {},
   "source": [
    "-------------------------\n",
    "## 1. Setup <a id='setup'></a>"
   ]
  },
  {
   "cell_type": "code",
   "execution_count": null,
   "metadata": {
    "editable": true,
    "slideshow": {
     "slide_type": ""
    },
    "tags": []
   },
   "outputs": [],
   "source": [
    "setup = util.load_yaml(\"./geology_index_setup.yaml\")\n",
    "\n",
    "catchment_name = setup[\"catchment_name\"]  # Catchment case: CONUS_HUC12, camels, camelsx-v3\n",
    "serial = setup[\"serial\"] # True: dask distributed enabled\n",
    "saveCSV = setup[\"saveCSV\"] # True: save attributes for each HRU in csv\n",
    "saveNetCDF = setup[\"saveNetCDF\"] # True: save attributes for each HRU in netcdf\n",
    "remap = setup[\"remap\"] # True: remap meteorological time series to HRUs\n",
    "\n",
    "# files and directories\n",
    "src_dir = setup[\"src_dir\"]\n",
    "catch_gpkg = setup[\"catch_gpkg\"]\n",
    "LiMW2015_mapping_file = setup[\"LiMW2015_mapping_file\"]\n",
    "GLHYMPS_mapping_file = setup[\"GLHYMPS_mapping_file\"]\n",
    "LiMW2015_gpkg = setup['LiMW2015_gpkg']\n",
    "GLHYMPS_gpkg = setup['GLHYMPS_gpkg']\n",
    "\n",
    "# geology variable meta\n",
    "LiMW2015_attr = setup['LiMW2015_attr']\n",
    "GLHYMPS_attr = setup['GLHYMPS_attr']\n",
    "GLiM_class = setup['GLiM_class']\n",
    "\n",
    "# catchment meta\n",
    "catch_attrs = setup[\"catch_attrs\"]\n",
    "\n",
    "print('-- Setup:')\n",
    "print(f\" Dask not enabled: {serial}\")\n",
    "print(f\" catchment_name: {catchment_name}\")\n",
    "print(f\" saveCSV: {saveCSV}\")\n",
    "print(f\" saveNetCDF: {saveNetCDF}\")\n",
    "print(f\" remap: {remap}\")\n",
    "print(f\" geology data directory: {src_dir}\")\n",
    "print(f\" catchment gpkg: {catch_gpkg}\")\n",
    "print(f\" LiMW2015_mapping_file: {LiMW2015_mapping_file}\")\n",
    "print(f\" GLHYMPS_mapping_file: {GLHYMPS_mapping_file}\")\n",
    "print(f\" LiMW2015_gpkg: {LiMW2015_gpkg}\")\n",
    "print(f\" GLHYMPS_gpkg: {GLHYMPS_gpkg}\")"
   ]
  },
  {
   "cell_type": "markdown",
   "metadata": {},
   "source": [
    "## Reading LiMW2015 and GLHYMPS geopackage data"
   ]
  },
  {
   "cell_type": "code",
   "execution_count": null,
   "metadata": {},
   "outputs": [],
   "source": [
    "%%time\n",
    "print(f'Reading LiMW2015 geology data')\n",
    "gdf_LiMW2015 = util.read_shps([os.path.join(src_dir,LiMW2015_gpkg)],list(LiMW2015_attr.keys()))\n",
    "ds_LiMW2015 = gdf_LiMW2015.rename(columns={'OBJECTID':'hru'}).set_index('hru').to_xarray()\n",
    "ds_LiMW2015 = ds_LiMW2015.rename({'xx':'lithological_class'})\n",
    "ds_LiMW2015['carbonate_rock'] = xr.DataArray(np.ones(len(ds_LiMW2015['hru']), dtype=int), dims=ds_LiMW2015.dims, coords=ds_LiMW2015.coords)\n",
    "ds_LiMW2015['carbonate_rock'] = ds_LiMW2015['carbonate_rock'].where(ds_LiMW2015['lithological_class']=='sc', 0)\n",
    "ds_LiMW2015"
   ]
  },
  {
   "cell_type": "code",
   "execution_count": null,
   "metadata": {},
   "outputs": [],
   "source": [
    "%%time\n",
    "print(f'Reading GLHYMPS geology data')\n",
    "gdf_GLHYMPS = util.read_shps([os.path.join(src_dir, GLHYMPS_gpkg)],list(GLHYMPS_attr.keys()))\n",
    "ds_GLHYMPS = gdf_GLHYMPS.rename(columns={'OBJECTID':'hru'}).set_index('hru').to_xarray()\n",
    "ds_GLHYMPS"
   ]
  },
  {
   "cell_type": "markdown",
   "metadata": {},
   "source": [
    "## Re-mapping\n",
    "- 1st dominant class\n",
    "- 2nd cominant class\n",
    "- porosity\n",
    "- Permeability"
   ]
  },
  {
   "cell_type": "code",
   "execution_count": null,
   "metadata": {},
   "outputs": [],
   "source": [
    "%%time\n",
    "dr_mask = xr.where(np.isnan(ds_LiMW2015['carbonate_rock']),0,1)\n",
    "a = util.remap_mode(xr.open_dataset(LiMW2015_mapping_file), ds_LiMW2015, dr_mask, ['lithological_class'])\n",
    "a['1st_dominant_lithological_class_fraction'] = a['1st_dominant_lithological_class_fraction'].where(a['1st_dominant_lithological_class']!='N/A', 0)\n",
    "a['2nd_dominant_lithological_class_fraction'] = a['2nd_dominant_lithological_class_fraction'].where(a['2nd_dominant_lithological_class']!='N/A', 0)"
   ]
  },
  {
   "cell_type": "code",
   "execution_count": null,
   "metadata": {},
   "outputs": [],
   "source": [
    "%%time\n",
    "# carbonate rock fraction\n",
    "a1 = util.remap_mean(xr.open_dataset(LiMW2015_mapping_file), ds_LiMW2015, dr_mask, ['carbonate_rock'])\n",
    "a = xr.merge([a, a1['carbonate_rock'].rename('carbonate_rock_frac')])"
   ]
  },
  {
   "cell_type": "code",
   "execution_count": null,
   "metadata": {},
   "outputs": [],
   "source": [
    "%%time\n",
    "dr_mask = xr.where(np.isnan(ds_GLHYMPS['Porosity']),0,1)\n",
    "a1 = util.remap_mean(xr.open_dataset(GLHYMPS_mapping_file), ds_GLHYMPS, dr_mask, ['Porosity', 'Permeability_permafrost'])\n",
    "a = xr.merge([a, a1])\n",
    "a"
   ]
  },
  {
   "cell_type": "markdown",
   "metadata": {},
   "source": [
    "## Dataset to Dataframe"
   ]
  },
  {
   "cell_type": "code",
   "execution_count": null,
   "metadata": {},
   "outputs": [],
   "source": [
    "df = a.to_dataframe()"
   ]
  },
  {
   "cell_type": "markdown",
   "metadata": {},
   "source": [
    "## Save in csv or netcdf"
   ]
  },
  {
   "cell_type": "code",
   "execution_count": null,
   "metadata": {},
   "outputs": [],
   "source": [
    "if saveCSV:\n",
    "    df.to_csv(os.path.join('output',f'{catchment_name}_geol.csv'), float_format='%g')\n",
    "if saveNetCDF:\n",
    "    a.to_netcdf(os.path.join('output',f'{catchment_name}_geol.nc'))"
   ]
  },
  {
   "cell_type": "markdown",
   "metadata": {
    "editable": true,
    "slideshow": {
     "slide_type": ""
    },
    "tags": []
   },
   "source": [
    "## Plotting"
   ]
  },
  {
   "cell_type": "code",
   "execution_count": null,
   "metadata": {},
   "outputs": [],
   "source": [
    "%%time\n",
    "gdf_camels = util.read_shps([catch_gpkg], [catch_attrs[catchment_name]['id']])"
   ]
  },
  {
   "cell_type": "code",
   "execution_count": null,
   "metadata": {},
   "outputs": [],
   "source": [
    "gdf_camels = gdf_camels.merge(a[['2nd_dominant_lithological_class',\n",
    "                                 '2nd_dominant_lithological_class_fraction',\n",
    "                                 '1st_dominant_lithological_class', \n",
    "                                 '1st_dominant_lithological_class_fraction',\n",
    "                                 'carbonate_rock_frac',\n",
    "                                 'Porosity', \n",
    "                                 'Permeability_permafrost']].to_dataframe(),left_on=catch_attrs[catchment_name]['id'], right_index=True)"
   ]
  },
  {
   "cell_type": "code",
   "execution_count": null,
   "metadata": {},
   "outputs": [],
   "source": [
    "var_name = '1st_dominant_lithological_class'\n",
    "fig, ax = plt.subplots(figsize=(6, 3), dpi=150)\n",
    "gdf_camels.plot(ax=ax, column=var_name, cmap='turbo',\n",
    "                legend=True, legend_kwds={'fontsize':'xx-small','loc':'best'},\n",
    "               );\n",
    "ax.set_title(var_name);\n",
    "fig.tight_layout()\n",
    "plt.savefig(f'./figures/{catchment_name}_geol_{var_name}.png', dpi=300)"
   ]
  },
  {
   "cell_type": "code",
   "execution_count": null,
   "metadata": {},
   "outputs": [],
   "source": [
    "var_name = '1st_dominant_lithological_class_fraction'\n",
    "fig, ax = plt.subplots(figsize=(6, 3), dpi=150)\n",
    "gdf_camels.plot(ax=ax, column=var_name, cmap='turbo',\n",
    "                legend=True\n",
    "               );\n",
    "ax.set_title(var_name);\n",
    "fig.tight_layout()\n",
    "plt.savefig(f'./figures/{catchment_name}_geol_{var_name}.png', dpi=300)"
   ]
  },
  {
   "cell_type": "code",
   "execution_count": null,
   "metadata": {},
   "outputs": [],
   "source": [
    "var_name = 'carbonate_rock_frac'\n",
    "fig, ax = plt.subplots(figsize=(6, 3), dpi=150)\n",
    "gdf_camels.plot(ax=ax, column=var_name, cmap='turbo',\n",
    "                legend=True\n",
    "               );\n",
    "ax.set_title(var_name);\n",
    "fig.tight_layout()\n",
    "plt.savefig(f'./figures/{catchment_name}_geol_{var_name}.png', dpi=300)"
   ]
  },
  {
   "cell_type": "code",
   "execution_count": null,
   "metadata": {},
   "outputs": [],
   "source": [
    "var_name = 'Porosity'\n",
    "fig, ax = plt.subplots(figsize=(6, 3), dpi=150)\n",
    "gdf_camels.plot(ax=ax, column=var_name, cmap='turbo',\n",
    "                norm=colors.Normalize(0, 0.25),\n",
    "                legend=True\n",
    "               );\n",
    "ax.set_title(var_name);\n",
    "fig.tight_layout()\n",
    "plt.savefig(f'./figures/{catchment_name}_geol_{var_name}.png', dpi=300)"
   ]
  },
  {
   "cell_type": "code",
   "execution_count": null,
   "metadata": {},
   "outputs": [],
   "source": [
    "var_name = 'Permeability_permafrost'\n",
    "fig, ax = plt.subplots(figsize=(6, 3), dpi=150)\n",
    "gdf_camels.plot(ax=ax, column=var_name, cmap='turbo',\n",
    "                norm=colors.Normalize(-20, -10),\n",
    "                legend=True\n",
    "               );\n",
    "ax.set_title(f'{var_name} log90');\n",
    "fig.tight_layout()\n",
    "plt.savefig(f'./figures/{catchment_name}_geol_{var_name}.png', dpi=300)"
   ]
  },
  {
   "cell_type": "code",
   "execution_count": null,
   "metadata": {},
   "outputs": [],
   "source": []
  }
 ],
 "metadata": {
  "kernelspec": {
   "display_name": "NPL 2024b",
   "language": "python",
   "name": "npl-2024b"
  },
  "language_info": {
   "codemirror_mode": {
    "name": "ipython",
    "version": 3
   },
   "file_extension": ".py",
   "mimetype": "text/x-python",
   "name": "python",
   "nbconvert_exporter": "python",
   "pygments_lexer": "ipython3",
   "version": "3.11.9"
  }
 },
 "nbformat": 4,
 "nbformat_minor": 4
}
