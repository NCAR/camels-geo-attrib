{
 "cells": [
  {
   "cell_type": "markdown",
   "metadata": {},
   "source": [
    "# Compute soil indices"
   ]
  },
  {
   "cell_type": "code",
   "execution_count": null,
   "metadata": {},
   "outputs": [],
   "source": [
    "%matplotlib inline  \n",
    "import os, sys\n",
    "import xarray as xr\n",
    "import geopandas as gpd\n",
    "import numpy as np\n",
    "import pandas as pd\n",
    "import matplotlib.pyplot as plt\n",
    "import matplotlib.colors as colors\n",
    "from sklearn import linear_model\n",
    "\n",
    "import scripts.soil_attributes as soil\n",
    "import scripts.utility as util\n",
    "\n",
    "print(\"\\nThe Python version: %s.%s.%s\" % sys.version_info[:3])\n",
    "print(xr.__name__, xr.__version__)"
   ]
  },
  {
   "cell_type": "markdown",
   "metadata": {},
   "source": [
    "# Reading soilgrids and Pelletier soil depth data"
   ]
  },
  {
   "cell_type": "code",
   "execution_count": null,
   "metadata": {},
   "outputs": [],
   "source": [
    "catchment_name = 'camels' #camels or CONUS_HUC12\n",
    "saveCSV = True\n",
    "saveNetCDF = True"
   ]
  },
  {
   "cell_type": "code",
   "execution_count": null,
   "metadata": {},
   "outputs": [],
   "source": [
    "catch_attrs = {\n",
    "    'CONUS_HUC12': ['HUCIDXint'],\n",
    "    'camels': ['GAGE_ID']\n",
    "}"
   ]
  },
  {
   "cell_type": "code",
   "execution_count": null,
   "metadata": {},
   "outputs": [],
   "source": [
    "src_sg_dir = '/glade/u/home/mizukami/proj/cmip6_hydro/camels/attributes/ingredient/soilgrid'\n",
    "mapping_sg_file = f'/glade/u/home/mizukami/proj/cmip6_hydro/camels/attributes/scripts/gen_mapping/weight_file/spatialweights_loca2_600m_to_{catchment_name}.nc' #spatialweights_loca2_600m_to_camels.nc\n",
    "\n",
    "src_pelletier_dir = '/glade/u/home/mizukami/proj/cmip6_hydro/camels/attributes/ingredient/Global_Soil_Regolith_Sediment'\n",
    "mapping_pelletier_file = f'/glade/u/home/mizukami/proj/cmip6_hydro/camels/attributes/scripts/gen_mapping/weight_file/spatialweights_Pelletier_global1km_to_{catchment_name}.nc'\n",
    "\n",
    "src_statsgo_dir = '/glade/u/home/mizukami/proj/cmip6_hydro/camels/attributes/ingredient/statsgo'\n",
    "mapping_statsgo_file = f'/glade/u/home/mizukami/proj/cmip6_hydro/camels/attributes/scripts/gen_mapping/weight_file/spatialweights_STATSGO_to_{catchment_name}.nc'\n",
    "\n",
    "#gpkg = '/glade/campaign/ral/hap/mizukami/proj/cmip6_hydro/geospatial/conus_HUC12_merit_v7b_simplified0.001.gpkg' #HCDN_nhru_final_671.buff_fix_holes.CAMELSandTDX_areabias_fix.simp0.001.level1.gpkg\n",
    "gpkg = '/glade/campaign/ral/hap/mizukami/proj/cmip6_hydro/geospatial/gagesII_671_shp_geogr.gpkg' #HCDN_nhru_final_671.buff_fix_holes.CAMELSandTDX_areabias_fix.simp0.001.level1.gpkg"
   ]
  },
  {
   "cell_type": "code",
   "execution_count": null,
   "metadata": {},
   "outputs": [],
   "source": [
    "# soilgrid netcdf header: variable name\n",
    "nc_sg_dict = {\n",
    "    'BDTICM':'bedrock_depth',\n",
    "    'silt':'silt_pct',\n",
    "    'clay':'clay_pct',\n",
    "    'sand':'sand_pct',\n",
    "    'bdod':'bulk_density',\n",
    "    'soc': 'occ'\n",
    "}\n",
    "\n",
    "soilgrid_thickness = [0.05, 0.1, 0.15, 0.3, 0.4, 1.0]\n",
    "target_thickness = [2.0]"
   ]
  },
  {
   "cell_type": "code",
   "execution_count": null,
   "metadata": {},
   "outputs": [],
   "source": [
    "# STATSGO stuff\n",
    "statsgo_attr_dict = {\n",
    "    'poly_id_us':'numeric polygon ID',\n",
    "    'ROCKDEPM':'depth to rock',\n",
    "}"
   ]
  },
  {
   "cell_type": "code",
   "execution_count": null,
   "metadata": {},
   "outputs": [],
   "source": [
    "%%time\n",
    "print(f'Reading soilgrid data')\n",
    "for ix, (header, variable) in enumerate(nc_sg_dict.items()):\n",
    "    print(f'{ix} {variable} in {header}')\n",
    "    if ix==0:\n",
    "        ds = xr.open_dataset(os.path.join(src_sg_dir, f'{header}_LOCA2.nc')).load()\n",
    "    else:\n",
    "        ds = ds.merge(xr.open_dataset(os.path.join(src_sg_dir, f'{header}_LOCA2.nc')).load())\n",
    "ds = ds.drop_vars(['crs'])\n",
    "#ds = ds.apply(lambda da: da.transpose('lat', 'lon', 'lyr') if set(['lyr', 'lat', 'lon']).issubset(da.dims) else da)\n",
    "\n",
    "ds['bedrock_depth'].values = ds['bedrock_depth'].values*0.01 # cm -> m\n",
    "ds['bulk_density'].values = ds['bulk_density'].values*0.01 # cg/cm3 -> g/cm3\n",
    "ds['silt_pct'].values = ds['silt_pct'].values*0.1 # g/kg -> percent\n",
    "ds['clay_pct'].values = ds['clay_pct'].values*0.1 # g/kg -> percent\n",
    "ds['sand_pct'].values = ds['sand_pct'].values*0.1 # g/kg -> percent\n",
    "ds['occ'].values = ds['occ'].values*0.01 # dg/kg -> percent\n",
    "\n",
    "ds['bedrock_depth'].attrs['units'] = 'm'\n",
    "ds['occ'].attrs['units'] = 'percent'\n",
    "ds['silt_pct'].attrs['units'] = 'percent'\n",
    "ds['clay_pct'].attrs['units'] = 'percent'\n",
    "ds['sand_pct'].attrs['units'] = 'percent'\n",
    "ds['bulk_density'].attrs['units'] = 'g/cm3'"
   ]
  },
  {
   "cell_type": "code",
   "execution_count": null,
   "metadata": {},
   "outputs": [],
   "source": [
    "%%time\n",
    "ds['usda_soil_class'] = soil.USDA_soil_classification(ds['sand_pct'], ds['clay_pct'], ds['silt_pct'])"
   ]
  },
  {
   "cell_type": "code",
   "execution_count": null,
   "metadata": {},
   "outputs": [],
   "source": [
    "%%time\n",
    "ds['porosity'] = soil.porosity_ptf1(ds['clay_pct'], ds['sand_pct'], ds['bulk_density'])\n",
    "ds['sat_matric_potential'] = soil.matric_potential_ptf1(ds['sand_pct'], ds['silt_pct'])\n",
    "ds['k_sat'] = soil.k_sat_ptf1(ds['sand_pct'], ds['clay_pct'])\n",
    "ds['max_water_content'] = soil.max_water_content_ptf1(ds['porosity'], ds['bedrock_depth'], soilgrid_thickness)"
   ]
  },
  {
   "cell_type": "code",
   "execution_count": null,
   "metadata": {},
   "outputs": [],
   "source": [
    "ds"
   ]
  },
  {
   "cell_type": "code",
   "execution_count": null,
   "metadata": {},
   "outputs": [],
   "source": [
    "%%time\n",
    "# Pelletier soil depth\n",
    "print(f'Reading Pelletier soil depth data')\n",
    "ds1 = xr.open_dataset(os.path.join(src_pelletier_dir, f'average_soil_and_sedimentary-deposit_thickness.nc')).load()\n",
    "ds1 = ds1.drop_vars(['crs'])"
   ]
  },
  {
   "cell_type": "code",
   "execution_count": null,
   "metadata": {},
   "outputs": [],
   "source": [
    "%%time\n",
    "# STATSGO depth\n",
    "print(f'Reading statsgo soil depth data')\n",
    "gdf_statsgo = util.read_shps([os.path.join(src_statsgo_dir, 'STATSGO_GPKG_WGS84_KMS.gpkg')], list(statsgo_attr_dict.keys()))\n",
    "ds_statsgo = gdf_statsgo.rename(columns={'poly_id_us':'hru'}).set_index('hru').to_xarray()\n",
    "ds_statsgo = ds_statsgo.rename({'ROCKDEPM':'statsgo_depth'})\n",
    "ds_statsgo['statsgo_depth'] = ds_statsgo['statsgo_depth']*0.01 #cm to m\n",
    "ds_statsgo['statsgo_depth'] = ds_statsgo['statsgo_depth']*1.5/ds_statsgo['statsgo_depth'].max().values # and scaled to 0-1.5 m\n",
    "ds_statsgo"
   ]
  },
  {
   "cell_type": "markdown",
   "metadata": {},
   "source": [
    "## Re-mapping"
   ]
  },
  {
   "cell_type": "code",
   "execution_count": null,
   "metadata": {},
   "outputs": [],
   "source": [
    "%%time\n",
    "dr_mask = xr.where(np.isnan(ds['silt_pct'].isel(lyr=0)), 0, 1)\n",
    "soil_vars = ['silt_pct','clay_pct','sand_pct','occ','bulk_density','k_sat','porosity','max_water_content']\n",
    "a1 = []\n",
    "a2 = []\n",
    "for ly in np.arange(6):\n",
    "    a1.append(util.regrid_mean(xr.open_dataset(mapping_sg_file), ds.isel(lyr=ly), dr_mask, soil_vars, verbose=False))\n",
    "    a2.append(util.regrid_mode(xr.open_dataset(mapping_sg_file), ds.isel(lyr=ly), dr_mask, ['usda_soil_class'], verbose=False))\n",
    "    print('finished %d'%ly)\n",
    "a = xr.concat(a1, dim=\"lyr\")\n",
    "a = xr.merge([a, util.regrid_mean(xr.open_dataset(mapping_sg_file), ds, xr.where(np.isnan(ds['bedrock_depth']), 0, 1), ['bedrock_depth'], verbose=False)]) # remap bedrock to depth [m] data\n",
    "a = xr.merge([a, util.regrid_mean(xr.open_dataset(mapping_pelletier_file), ds1, xr.where(np.isnan(ds1['soil_thickness']), 0, 1), ['soil_thickness'], verbose=False)]) # remap pelletier soil thickness[m] data\n",
    "a = xr.merge([a, util.remap_mean(xr.open_dataset(mapping_statsgo_file), ds_statsgo, xr.where(np.isnan(ds_statsgo['statsgo_depth']), 0, 1), ['statsgo_depth'])])"
   ]
  },
  {
   "cell_type": "code",
   "execution_count": null,
   "metadata": {},
   "outputs": [],
   "source": []
  },
  {
   "cell_type": "code",
   "execution_count": null,
   "metadata": {},
   "outputs": [],
   "source": [
    "layer_mapping = util.comp_layer_weight(soilgrid_thickness,target_thickness)"
   ]
  },
  {
   "cell_type": "code",
   "execution_count": null,
   "metadata": {},
   "outputs": [],
   "source": [
    "# vertical, layer aggregation\n",
    "# take a mean over layers for soil_vars and bedrock_depth\n",
    "b = a.mean(dim='lyr')\n",
    "#b=xr.Dataset()\n",
    "#for var in soil_vars:\n",
    "#    b = xr.merge([b, util.remap_mean_vertical(layer_mapping, a[var], default=np.nan)])"
   ]
  },
  {
   "cell_type": "code",
   "execution_count": null,
   "metadata": {},
   "outputs": [],
   "source": []
  },
  {
   "cell_type": "code",
   "execution_count": null,
   "metadata": {},
   "outputs": [],
   "source": [
    "# vertical, layer aggregation\n",
    "# take a dominant over layers for soil class\n",
    "aaa = xr.concat(a2, dim=\"lyr\")\n",
    "aaa['1st_dominant_usda_soil_class_fraction'].values = aaa['1st_dominant_usda_soil_class_fraction'].values*layer_mapping['weight'].transpose()\n",
    "aaa['2nd_dominant_usda_soil_class_fraction'].values = aaa['2nd_dominant_usda_soil_class_fraction'].values*layer_mapping['weight'].transpose()"
   ]
  },
  {
   "cell_type": "code",
   "execution_count": null,
   "metadata": {},
   "outputs": [],
   "source": [
    "cat_class = np.concatenate((aaa['1st_dominant_usda_soil_class'].values, aaa['2nd_dominant_usda_soil_class'].values), axis=0)\n",
    "cat_frac = np.concatenate((aaa['1st_dominant_usda_soil_class_fraction'].values, aaa['2nd_dominant_usda_soil_class_fraction'].values), axis=0)"
   ]
  },
  {
   "cell_type": "code",
   "execution_count": null,
   "metadata": {},
   "outputs": [],
   "source": [
    "# initialize \n",
    "first_dominant = np.full(cat_frac.shape[1], 'N/A', np.object_)   # this is final aggregated data\n",
    "first_weight = np.ones(cat_frac.shape[1], 'float')*np.nan   # this is weight of final aggregated data \n",
    "\n",
    "# reformat var data into regular matrix matching weights format (nOutPolygons, maxOverlaps)\n",
    "#   used advanced indexing to extract matching input grid indices\n",
    "dataset = xr.Dataset()\n",
    "for p in np.arange(cat_frac.shape[1]):\n",
    "    sorted_data = util.find_dominant(cat_class[:,p], cat_frac[:,p]) # see utilty.py for output data structure \n",
    "    first_dominant[p] = sorted_data[0][0] # 1st element in the 1st tuple\n",
    "    first_weight[p] = sorted_data[0][1]   # 2nd element in the 1st tuple\n",
    "    \n",
    "dataset[f'1st_dominant_class'] = xr.DataArray(data=first_dominant,\n",
    "                                              dims=[\"hru\"],\n",
    "                                              coords=dict(hru=aaa['hru'])\n",
    "                                             )\n",
    "dataset[f'1st_dominant_class_frac'] = xr.DataArray(data=first_weight,\n",
    "                                              dims=[\"hru\"],\n",
    "                                              coords=dict(hru=aaa['hru'])\n",
    "                                             )"
   ]
  },
  {
   "cell_type": "code",
   "execution_count": null,
   "metadata": {},
   "outputs": [],
   "source": [
    "# merge soil class and the other soil variables\n",
    "b = xr.merge([b, dataset])\n",
    "b"
   ]
  },
  {
   "cell_type": "markdown",
   "metadata": {},
   "source": [
    "## Dataset to Dataframe"
   ]
  },
  {
   "cell_type": "code",
   "execution_count": null,
   "metadata": {},
   "outputs": [],
   "source": [
    "df = b.to_dataframe()"
   ]
  },
  {
   "cell_type": "markdown",
   "metadata": {},
   "source": [
    "## Save in csv or netcdf"
   ]
  },
  {
   "cell_type": "code",
   "execution_count": null,
   "metadata": {},
   "outputs": [],
   "source": [
    "if saveNetCDF:\n",
    "    df.to_csv(f'{catchment_name}_soil.csv', float_format='%g')\n",
    "if saveCSV:\n",
    "    b.to_netcdf(f'{catchment_name}_soil.nc')"
   ]
  },
  {
   "cell_type": "markdown",
   "metadata": {
    "editable": true,
    "slideshow": {
     "slide_type": ""
    },
    "tags": []
   },
   "source": [
    "## Plotting..."
   ]
  },
  {
   "cell_type": "code",
   "execution_count": null,
   "metadata": {},
   "outputs": [],
   "source": [
    "gdf_camels = gpd.read_file(gpkg)"
   ]
  },
  {
   "cell_type": "code",
   "execution_count": null,
   "metadata": {
    "scrolled": true
   },
   "outputs": [],
   "source": [
    "gdf_camels = gdf_camels.merge(df,left_on=catch_attrs[catchment_name], right_index=True)"
   ]
  },
  {
   "cell_type": "code",
   "execution_count": null,
   "metadata": {},
   "outputs": [],
   "source": []
  },
  {
   "cell_type": "code",
   "execution_count": null,
   "metadata": {},
   "outputs": [],
   "source": [
    "var_name = '1st_dominant_class'\n",
    "fig, ax = plt.subplots(figsize=(6, 3), dpi=150)\n",
    "#gdf_camels.plot(ax=ax, color='white', edgecolor='black', lw=0.2)\n",
    "gdf_camels.plot(ax=ax, column=var_name, cmap='turbo',\n",
    "                norm=colors.Normalize(1, 12),\n",
    "                legend=True\n",
    "               );\n",
    "ax.set_title(var_name);\n",
    "fig.tight_layout()\n",
    "plt.savefig(f'./figures/{catchment_name}_soil_{var_name}.png', dpi=300)"
   ]
  },
  {
   "cell_type": "code",
   "execution_count": null,
   "metadata": {},
   "outputs": [],
   "source": [
    "var_name = 'bedrock_depth'\n",
    "fig, ax = plt.subplots(figsize=(6, 3), dpi=150)\n",
    "#gdf_camels.plot(ax=ax, color='white', edgecolor='black', lw=0.3)\n",
    "gdf_camels.plot(ax=ax, column=var_name, cmap='turbo',\n",
    "                norm=colors.Normalize(0, 50),\n",
    "                legend=True\n",
    "               );\n",
    "ax.set_title(var_name);\n",
    "fig.tight_layout()\n",
    "plt.savefig(f'./figures/{catchment_name}_soil_{var_name}.png', dpi=300)"
   ]
  },
  {
   "cell_type": "code",
   "execution_count": null,
   "metadata": {},
   "outputs": [],
   "source": [
    "var_name = 'statsgo_depth'\n",
    "fig, ax = plt.subplots(figsize=(6, 3), dpi=150)\n",
    "gdf_camels.plot(ax=ax, column=var_name, cmap='turbo',\n",
    "                norm=colors.Normalize(0, 1.5),\n",
    "                legend=True\n",
    "               );\n",
    "ax.set_title(var_name);\n",
    "fig.tight_layout()\n",
    "plt.savefig(f'./figures/{catchment_name}_soil_{var_name}.png', dpi=300)"
   ]
  },
  {
   "cell_type": "code",
   "execution_count": null,
   "metadata": {},
   "outputs": [],
   "source": [
    "var_name = 'soil_thickness'\n",
    "fig, ax = plt.subplots(figsize=(6, 3), dpi=150)\n",
    "#gdf_camels.plot(ax=ax, color='white', edgecolor='black', lw=0.3)\n",
    "gdf_camels.plot(ax=ax, column=var_name, cmap='turbo',\n",
    "                norm=colors.Normalize(0, 50),\n",
    "                legend=True\n",
    "               );\n",
    "ax.set_title(var_name);\n",
    "fig.tight_layout()\n",
    "plt.savefig(f'./figures/{catchment_name}_soil_{var_name}.png', dpi=300)"
   ]
  },
  {
   "cell_type": "code",
   "execution_count": null,
   "metadata": {},
   "outputs": [],
   "source": [
    "var_name = 'max_water_content'\n",
    "fig, ax = plt.subplots(figsize=(6, 3), dpi=150)\n",
    "#gdf_camels.plot(ax=ax, color='white', edgecolor='black', lw=0.3)\n",
    "gdf_camels.plot(ax=ax, column=var_name, cmap='turbo',\n",
    "                norm=colors.Normalize(0, 10),\n",
    "                legend=True\n",
    "               );\n",
    "ax.set_title(var_name);\n",
    "fig.tight_layout()\n",
    "plt.savefig(f'./figures/{catchment_name}_soil_{var_name}.png', dpi=300)"
   ]
  },
  {
   "cell_type": "code",
   "execution_count": null,
   "metadata": {},
   "outputs": [],
   "source": [
    "var_name = 'sand_pct'\n",
    "fig, ax = plt.subplots(figsize=(6, 3), dpi=150)\n",
    "#gdf_camels.plot(ax=ax, color='white', edgecolor='black', lw=0.3)\n",
    "gdf_camels.plot(ax=ax, column=var_name, cmap='turbo',\n",
    "                norm=colors.Normalize(10, 70),\n",
    "                legend=True\n",
    "               );\n",
    "ax.set_title(var_name);\n",
    "fig.tight_layout()\n",
    "plt.savefig(f'./figures/{catchment_name}_soil_{var_name}.png', dpi=300)"
   ]
  },
  {
   "cell_type": "code",
   "execution_count": null,
   "metadata": {},
   "outputs": [],
   "source": [
    "var_name = 'clay_pct'\n",
    "fig, ax = plt.subplots(figsize=(6, 3), dpi=150)\n",
    "#gdf_camels.plot(ax=ax, color='white', edgecolor='black', lw=0.3)\n",
    "gdf_camels.plot(ax=ax, column=var_name, cmap='turbo',\n",
    "                norm=colors.Normalize(5, 50),\n",
    "                legend=True\n",
    "               );\n",
    "ax.set_title(var_name);\n",
    "fig.tight_layout()\n",
    "plt.savefig(f'./figures/{catchment_name}_soil_{var_name}.png', dpi=300)"
   ]
  },
  {
   "cell_type": "code",
   "execution_count": null,
   "metadata": {},
   "outputs": [],
   "source": [
    "var_name = 'silt_pct'\n",
    "fig, ax = plt.subplots(figsize=(6, 3), dpi=150)\n",
    "#gdf_camels.plot(ax=ax, color='white', edgecolor='black', lw=0.3)\n",
    "gdf_camels.plot(ax=ax, column=var_name, cmap='turbo',\n",
    "                norm=colors.Normalize(5, 50),\n",
    "                legend=True\n",
    "               );\n",
    "ax.set_title(var_name);\n",
    "fig.tight_layout()\n",
    "plt.savefig(f'./figures/{catchment_name}_soil_{var_name}.png', dpi=300)"
   ]
  },
  {
   "cell_type": "code",
   "execution_count": null,
   "metadata": {},
   "outputs": [],
   "source": [
    "var_name = 'bulk_density'\n",
    "fig, ax = plt.subplots(figsize=(6, 3), dpi=150)\n",
    "#gdf_camels.plot(ax=ax, color='white', edgecolor='black', lw=0.3)\n",
    "gdf_camels.plot(ax=ax, column=var_name, cmap='turbo',\n",
    "                norm=colors.Normalize(1, 2),\n",
    "                legend=True\n",
    "               );\n",
    "ax.set_title(var_name);\n",
    "fig.tight_layout()\n",
    "plt.savefig(f'./figures/{catchment_name}_soil_{var_name}.png', dpi=300)"
   ]
  },
  {
   "cell_type": "code",
   "execution_count": null,
   "metadata": {},
   "outputs": [],
   "source": [
    "var_name = 'porosity'\n",
    "fig, ax = plt.subplots(figsize=(6, 3), dpi=150)\n",
    "gdf_camels.plot(ax=ax, column=var_name, cmap='turbo',\n",
    "                norm=colors.Normalize(0.2, 0.6),\n",
    "                legend=True\n",
    "               );\n",
    "ax.set_title(var_name);\n",
    "fig.tight_layout()\n",
    "plt.savefig(f'./figures/{catchment_name}_soil_{var_name}.png', dpi=300)"
   ]
  },
  {
   "cell_type": "code",
   "execution_count": null,
   "metadata": {},
   "outputs": [],
   "source": [
    "var_name = 'sat_matric_potential'\n",
    "fig, ax = plt.subplots(figsize=(6, 3), dpi=150)\n",
    "#gdf_camels.plot(ax=ax, color='white', edgecolor='black', lw=0.3)\n",
    "gdf_camels.plot(ax=ax, column=var_name, cmap='turbo',\n",
    "                norm=colors.Normalize(-5, -1),\n",
    "                legend=True\n",
    "               );\n",
    "ax.set_title(var_name);\n",
    "fig.tight_layout()\n",
    "plt.savefig(f'./figures/{catchment_name}_soil_{var_name}.png', dpi=300)"
   ]
  },
  {
   "cell_type": "code",
   "execution_count": null,
   "metadata": {},
   "outputs": [],
   "source": []
  }
 ],
 "metadata": {
  "kernelspec": {
   "display_name": "NPL 2024b",
   "language": "python",
   "name": "npl-2024b"
  },
  "language_info": {
   "codemirror_mode": {
    "name": "ipython",
    "version": 3
   },
   "file_extension": ".py",
   "mimetype": "text/x-python",
   "name": "python",
   "nbconvert_exporter": "python",
   "pygments_lexer": "ipython3",
   "version": "3.11.9"
  }
 },
 "nbformat": 4,
 "nbformat_minor": 4
}
